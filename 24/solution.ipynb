{
 "cells": [
  {
   "cell_type": "code",
   "execution_count": 9,
   "metadata": {},
   "outputs": [
    {
     "data": {
      "text/plain": [
       "[((19, 13, 30), (-2, 1, -2)),\n",
       " ((18, 19, 22), (-1, -1, -2)),\n",
       " ((20, 25, 34), (-2, -2, -4)),\n",
       " ((12, 31, 28), (-1, -2, -1)),\n",
       " ((20, 19, 15), (1, -5, -3))]"
      ]
     },
     "execution_count": 9,
     "metadata": {},
     "output_type": "execute_result"
    }
   ],
   "source": [
    "def parse(input):\n",
    "  input = [l.strip().split('@') for l in open(input, 'r').readlines()]\n",
    "  input = [tuple([tuple(map(int, m.split(','))) for m in l]) for l in input]\n",
    "  return input\n",
    "\n",
    "parse('sample')"
   ]
  },
  {
   "cell_type": "code",
   "execution_count": 10,
   "metadata": {},
   "outputs": [
    {
     "data": {
      "text/plain": [
       "14672"
      ]
     },
     "execution_count": 10,
     "metadata": {},
     "output_type": "execute_result"
    }
   ],
   "source": [
    "def get_mb(x, y, z, vx, vy, vz):\n",
    "  m = vy / vx\n",
    "  b = y - m * x\n",
    "  return m, b\n",
    "\n",
    "def first_part(input, min, max):\n",
    "  result = 0\n",
    "  mbs = list(map(lambda x: get_mb(*x[0], *x[1]), input))\n",
    "  for i in range(len(mbs)):\n",
    "    for j in range(i+1, len(mbs)):\n",
    "      am, ab = mbs[i]\n",
    "      bm, bb = mbs[j]\n",
    "\n",
    "      denom = bm - am\n",
    "\n",
    "      if denom == 0:\n",
    "        continue\n",
    "\n",
    "      x = (ab - bb) / denom\n",
    "\n",
    "      if (x < input[i][0][0] and input[i][1][0] > 0) or (x > input[i][0][0] and input[i][1][0] < 0) or (x < input[j][0][0] and input[j][1][0] > 0) or (x > input[j][0][0] and input[j][1][0] < 0):\n",
    "        continue\n",
    "\n",
    "      y = am * x + ab\n",
    "\n",
    "      if min <= x <= max and min <= y <= max:\n",
    "        result += 1\n",
    "  return result\n",
    "\n",
    "assert first_part(parse('sample'), 7, 27) == 2\n",
    "first_part(parse('input'), 200000000000000, 400000000000000)"
   ]
  },
  {
   "cell_type": "code",
   "execution_count": 92,
   "metadata": {},
   "outputs": [
    {
     "data": {
      "text/latex": [
       "$\\displaystyle 646810057104753$"
      ],
      "text/plain": [
       "646810057104753"
      ]
     },
     "execution_count": 92,
     "metadata": {},
     "output_type": "execute_result"
    }
   ],
   "source": [
    "from sympy import symbols, solve, Eq\n",
    "from sympy.matrices import Matrix\n",
    "\n",
    "def second_part(input):\n",
    "  a, b, c, d, *_ = input\n",
    "  x, y, z, vx, vy, vz, t1, t2, t3, t4 = symbols('x y z vx vy vz t1 t2 t3 t4')\n",
    "\n",
    "  P = Matrix([[x, y, z]])\n",
    "  V = Matrix([[vx, vy, vz]])\n",
    "  r = solve([\n",
    "    Eq(Matrix([[*a[0]]]) + t1 * Matrix([[*a[1]]]), P + t1 * V),\n",
    "    Eq(Matrix([[*b[0]]]) + t2 * Matrix([[*b[1]]]), P + t2 * V),\n",
    "    Eq(Matrix([[*c[0]]]) + t3 * Matrix([[*c[1]]]), P + t3 * V),\n",
    "    Eq(Matrix([[*d[0]]]) + t4 * Matrix([[*d[1]]]), P + t4 * V),\n",
    "  ], [t1, x, vx, y, vy, z, vz, t2, t3, t4], dict=True)[0]\n",
    "\n",
    "  return r[x] + r[y] + r[z]\n",
    "\n",
    "assert second_part(parse('sample')) == 47\n",
    "second_part(parse('input'))"
   ]
  }
 ],
 "metadata": {
  "kernelspec": {
   "display_name": ".venv",
   "language": "python",
   "name": "python3"
  },
  "language_info": {
   "codemirror_mode": {
    "name": "ipython",
    "version": 3
   },
   "file_extension": ".py",
   "mimetype": "text/x-python",
   "name": "python",
   "nbconvert_exporter": "python",
   "pygments_lexer": "ipython3",
   "version": "3.11.6"
  }
 },
 "nbformat": 4,
 "nbformat_minor": 2
}
