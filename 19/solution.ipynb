{
 "cells": [
  {
   "cell_type": "code",
   "execution_count": 145,
   "metadata": {},
   "outputs": [
    {
     "data": {
      "text/plain": [
       "({'px': [('a', '<', 2006, 'qkq'), ('m', '>', 2090, 'A'), 'rfg'],\n",
       "  'pv': [('a', '>', 1716, 'R'), 'A'],\n",
       "  'lnx': [('m', '>', 1548, 'A'), 'A'],\n",
       "  'rfg': [('s', '<', 537, 'gd'), ('x', '>', 2440, 'R'), 'A'],\n",
       "  'qs': [('s', '>', 3448, 'A'), 'lnx'],\n",
       "  'qkq': [('x', '<', 1416, 'A'), 'crn'],\n",
       "  'crn': [('x', '>', 2662, 'A'), 'R'],\n",
       "  'in': [('s', '<', 1351, 'px'), 'qqz'],\n",
       "  'qqz': [('s', '>', 2770, 'qs'), ('m', '<', 1801, 'hdj'), 'R'],\n",
       "  'gd': [('a', '>', 3333, 'R'), 'R'],\n",
       "  'hdj': [('m', '>', 838, 'A'), 'pv']},\n",
       " [{'x': 787, 'm': 2655, 'a': 1222, 's': 2876},\n",
       "  {'x': 1679, 'm': 44, 'a': 2067, 's': 496},\n",
       "  {'x': 2036, 'm': 264, 'a': 79, 's': 2244},\n",
       "  {'x': 2461, 'm': 1339, 'a': 466, 's': 291},\n",
       "  {'x': 2127, 'm': 1623, 'a': 2188, 's': 1013}])"
      ]
     },
     "execution_count": 145,
     "metadata": {},
     "output_type": "execute_result"
    }
   ],
   "source": [
    "import re\n",
    "workflow_rx = r'^(\\w+)\\{(.*),(\\w+)\\}$'\n",
    "step_rx = r'^(\\w+)([<>])(\\d+):(\\w+)$'\n",
    "rating_rx = r'^(\\w+)=(\\d+)$'\n",
    "\n",
    "def parse(input):\n",
    "  lines = [l.strip() for l in open(input, 'r').readlines()]\n",
    "  split = lines.index('')\n",
    "  workflows = [re.match(workflow_rx, l).groups() for l in lines[:split]]\n",
    "  workflows = [(w[0], [re.match(step_rx, step).groups() for step in w[1].split(',')], w[2]) for w in workflows]\n",
    "  workflows = [(w[0], [(s[0], s[1], int(s[2]), s[3]) for s in w[1]], w[2]) for w in workflows]\n",
    "  workflows = dict([(w[0], w[1] + [w[2]]) for w in workflows])\n",
    "  ratings = [l[1:-1].split(',') for l in lines[split+1:]]\n",
    "  ratings = [[re.match(rating_rx, q).groups() for q in r] for r in ratings]\n",
    "  ratings = [dict([(q[0], int(q[1])) for q in r]) for r in ratings]\n",
    "  return workflows, ratings\n",
    "\n",
    "parse('sample')"
   ]
  },
  {
   "cell_type": "code",
   "execution_count": 146,
   "metadata": {},
   "outputs": [
    {
     "data": {
      "text/plain": [
       "402185"
      ]
     },
     "execution_count": 146,
     "metadata": {},
     "output_type": "execute_result"
    }
   ],
   "source": [
    "def get_next(rating, workflow):\n",
    "  for step in workflow:\n",
    "    if not isinstance(step, tuple):\n",
    "      return step\n",
    "\n",
    "    value = rating[step[0]]\n",
    "    if step[1] == '<' and value < step[2]:\n",
    "      return step[3]\n",
    "    elif step[1] == '>' and value > step[2]:\n",
    "      return step[3]\n",
    "\n",
    "def first_part(input):\n",
    "  workflows, ratings = input\n",
    "  result = 0\n",
    "\n",
    "  for rating in ratings:\n",
    "    current = 'in'\n",
    "    while current != 'A' and current != 'R':\n",
    "      current = get_next(rating, workflows[current])\n",
    "    \n",
    "    if current == 'A':\n",
    "      result += sum(rating.values())\n",
    "  \n",
    "  return result\n",
    "\n",
    "assert first_part(parse('sample')) == 19114\n",
    "first_part(parse('input'))"
   ]
  },
  {
   "cell_type": "code",
   "execution_count": 147,
   "metadata": {},
   "outputs": [
    {
     "data": {
      "text/plain": [
       "130291480568730"
      ]
     },
     "execution_count": 147,
     "metadata": {},
     "output_type": "execute_result"
    }
   ],
   "source": [
    "from functools import reduce\n",
    "\n",
    "def split(range, step):\n",
    "  index = 'xmas'.index(step[0])\n",
    "  if step[1] == '<':\n",
    "    a = tuple([(r[0], step[2]) if i == index else r for i, r in enumerate(range)])\n",
    "    b = tuple([(step[2], r[1]) if i == index else r for i, r in enumerate(range)])\n",
    "  else:\n",
    "    a = tuple([(step[2] + 1, r[1]) if i == index else r for i, r in enumerate(range)])\n",
    "    b = tuple([(r[0], step[2] + 1) if i == index else r for i, r in enumerate(range)])\n",
    "  return a, b\n",
    "\n",
    "def second_part(input):\n",
    "  workflows, _ = input\n",
    "  queue = [('in', ((1, 4001), (1, 4001), (1, 4001), (1, 4001)))]\n",
    "  result = 0\n",
    "\n",
    "  while queue:\n",
    "    name, range = queue.pop()\n",
    "    if name == 'A':\n",
    "      result += reduce(lambda a, b: a * b, map(lambda a: a[1] - a[0], range), 1)\n",
    "    elif name != 'R':\n",
    "      workflow = workflows[name]\n",
    "      leftovers = range\n",
    "      for step in workflow:\n",
    "        if not isinstance(step, tuple):\n",
    "          queue.append((step, leftovers))\n",
    "        else:\n",
    "          true, false = split(leftovers, step)\n",
    "          queue.append((step[3], true))\n",
    "          leftovers = false\n",
    "\n",
    "  return result\n",
    "\n",
    "assert second_part(parse('sample')) == 167409079868000\n",
    "second_part(parse('input'))"
   ]
  }
 ],
 "metadata": {
  "kernelspec": {
   "display_name": ".venv",
   "language": "python",
   "name": "python3"
  },
  "language_info": {
   "codemirror_mode": {
    "name": "ipython",
    "version": 3
   },
   "file_extension": ".py",
   "mimetype": "text/x-python",
   "name": "python",
   "nbconvert_exporter": "python",
   "pygments_lexer": "ipython3",
   "version": "3.11.6"
  }
 },
 "nbformat": 4,
 "nbformat_minor": 2
}
