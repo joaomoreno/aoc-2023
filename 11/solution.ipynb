{
 "cells": [
  {
   "cell_type": "code",
   "execution_count": 77,
   "metadata": {},
   "outputs": [],
   "source": [
    "def parse(input):\n",
    "  space = [l.strip() for l in open(input, 'r').readlines()]\n",
    "  galaxies = [(x, y) for y, l in enumerate(space) for x, c in enumerate(l) if c == '#']\n",
    "  return galaxies, space"
   ]
  },
  {
   "cell_type": "code",
   "execution_count": 79,
   "metadata": {},
   "outputs": [
    {
     "name": "stdout",
     "output_type": "stream",
     "text": [
      "9742154\n"
     ]
    }
   ],
   "source": [
    "from itertools import combinations\n",
    "\n",
    "def get_distance(a, b, rows, columns, expansion=2):\n",
    "  ax, ay = a\n",
    "  bx, by = b\n",
    "  ax, bx = min(ax, bx), max(ax, bx)\n",
    "  ay, by = min(ay, by), max(ay, by)\n",
    "  result = abs(ax - bx) + abs(ay - by)\n",
    "  for r in rows:\n",
    "    if r > ay and r < by:\n",
    "      result += expansion - 1\n",
    "    if r > by and r > ay:\n",
    "      break\n",
    "  for c in columns:\n",
    "    if c > ax and c < bx:\n",
    "      result += expansion - 1\n",
    "    if c > bx and c > ax:\n",
    "      break\n",
    "  return result\n",
    "\n",
    "def solve(input, expansion=2):\n",
    "  galaxies, space = input\n",
    "  rows = [r for r, l in enumerate(space) if all(c == '.' for c in l)]\n",
    "  columns = [c for c, _ in enumerate(space[0]) if all(l[c] == '.' for l in space)]\n",
    "  distances = [get_distance(a, b, rows, columns, expansion) for a, b in combinations(galaxies, 2)]\n",
    "  return sum(distances)\n",
    "\n",
    "def first_part(input):\n",
    "  return solve(input)\n",
    "\n",
    "assert first_part(parse('sample')) == 374\n",
    "print(first_part(parse('input')))"
   ]
  },
  {
   "cell_type": "code",
   "execution_count": 81,
   "metadata": {},
   "outputs": [
    {
     "name": "stdout",
     "output_type": "stream",
     "text": [
      "411142919886\n"
     ]
    }
   ],
   "source": [
    "def second_part(input, expansion=1_000_000):\n",
    "  return solve(input, expansion)\n",
    "\n",
    "assert second_part(parse('sample'), 10) == 1030\n",
    "assert second_part(parse('sample'), 100) == 8410\n",
    "print(second_part(parse('input')))"
   ]
  }
 ],
 "metadata": {
  "kernelspec": {
   "display_name": ".venv",
   "language": "python",
   "name": "python3"
  },
  "language_info": {
   "codemirror_mode": {
    "name": "ipython",
    "version": 3
   },
   "file_extension": ".py",
   "mimetype": "text/x-python",
   "name": "python",
   "nbconvert_exporter": "python",
   "pygments_lexer": "ipython3",
   "version": "3.11.6"
  }
 },
 "nbformat": 4,
 "nbformat_minor": 2
}
