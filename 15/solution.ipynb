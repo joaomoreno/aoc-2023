{
 "cells": [
  {
   "cell_type": "code",
   "execution_count": 2,
   "metadata": {},
   "outputs": [
    {
     "data": {
      "text/plain": [
       "['rn=1',\n",
       " 'cm-',\n",
       " 'qp=3',\n",
       " 'cm=2',\n",
       " 'qp-',\n",
       " 'pc=4',\n",
       " 'ot=9',\n",
       " 'ab=5',\n",
       " 'pc-',\n",
       " 'pc=6',\n",
       " 'ot=7']"
      ]
     },
     "execution_count": 2,
     "metadata": {},
     "output_type": "execute_result"
    }
   ],
   "source": [
    "def parse(input):\n",
    "  lines = [l.strip() for l in open(input, 'r').readlines()]\n",
    "  return lines[0].split(',')\n",
    "\n",
    "parse('sample')"
   ]
  },
  {
   "cell_type": "code",
   "execution_count": 3,
   "metadata": {},
   "outputs": [
    {
     "data": {
      "text/plain": [
       "513158"
      ]
     },
     "execution_count": 3,
     "metadata": {},
     "output_type": "execute_result"
    }
   ],
   "source": [
    "def hash(value):\n",
    "  result = 0\n",
    "  for c in value:\n",
    "    result += ord(c)\n",
    "    result *= 17\n",
    "    result %= 256\n",
    "  return result\n",
    "\n",
    "assert hash('HASH') == 52\n",
    "\n",
    "def first_part(input):\n",
    "  return sum(hash(value) for value in input)\n",
    "\n",
    "assert first_part(parse('sample')) == 1320\n",
    "first_part(parse('input'))"
   ]
  },
  {
   "cell_type": "code",
   "execution_count": 16,
   "metadata": {},
   "outputs": [
    {
     "data": {
      "text/plain": [
       "200277"
      ]
     },
     "execution_count": 16,
     "metadata": {},
     "output_type": "execute_result"
    }
   ],
   "source": [
    "import re\n",
    "\n",
    "def second_part(input):\n",
    "  boxes = [[] for _ in range(256)]\n",
    "  \n",
    "  for value in input:\n",
    "    inst = tuple(v for v in re.split(r'\\b', value) if v != '')\n",
    "    box = hash(inst[0])\n",
    "    if inst[1] == '-':\n",
    "      boxes[box] = [lens for lens in boxes[box] if lens[0] != inst[0]]\n",
    "    elif inst[1] == '=':\n",
    "      try:\n",
    "        index = [i for i, lens in enumerate(boxes[box]) if lens[0] == inst[0]][0]\n",
    "        boxes[box][index] = (inst[0], int(inst[2]))\n",
    "      except IndexError:\n",
    "        boxes[box].append((inst[0], int(inst[2])))\n",
    "  \n",
    "  result = 0\n",
    "  for b, box in enumerate(boxes):\n",
    "    for l, lens in enumerate(box):\n",
    "      result += (b + 1) * (l + 1) * lens[1]\n",
    "  return result\n",
    "\n",
    "assert second_part(parse('sample')) == 145\n",
    "second_part(parse('input'))"
   ]
  }
 ],
 "metadata": {
  "kernelspec": {
   "display_name": ".venv",
   "language": "python",
   "name": "python3"
  },
  "language_info": {
   "codemirror_mode": {
    "name": "ipython",
    "version": 3
   },
   "file_extension": ".py",
   "mimetype": "text/x-python",
   "name": "python",
   "nbconvert_exporter": "python",
   "pygments_lexer": "ipython3",
   "version": "3.11.6"
  }
 },
 "nbformat": 4,
 "nbformat_minor": 2
}
