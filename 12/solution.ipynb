{
 "cells": [
  {
   "cell_type": "code",
   "execution_count": 171,
   "metadata": {},
   "outputs": [
    {
     "data": {
      "text/plain": [
       "[('???.###', [1, 1, 3]),\n",
       " ('.??..??...?##.', [1, 1, 3]),\n",
       " ('?#?#?#?#?#?#?#?', [1, 3, 1, 6]),\n",
       " ('????.#...#...', [4, 1, 1]),\n",
       " ('????.######..#####.', [1, 6, 5]),\n",
       " ('?###????????', [3, 2, 1])]"
      ]
     },
     "execution_count": 171,
     "metadata": {},
     "output_type": "execute_result"
    }
   ],
   "source": [
    "def parse(input):\n",
    "  rows = [l.strip() for l in open(input, 'r').readlines()]\n",
    "  rows = [row.split(' ') for row in rows]\n",
    "  return [(records, list(map(int, counts.split(',')))) for records, counts in rows]\n",
    "\n",
    "parse('sample')"
   ]
  },
  {
   "cell_type": "code",
   "execution_count": 172,
   "metadata": {},
   "outputs": [
    {
     "data": {
      "text/plain": [
       "7163"
      ]
     },
     "execution_count": 172,
     "metadata": {},
     "output_type": "execute_result"
    }
   ],
   "source": [
    "def solve(records, counts, i = 0, j = 0, cache = {}):\n",
    "  if (i, j) in cache:\n",
    "    return cache[(i, j)]\n",
    "  else:\n",
    "    result = _solve(records, counts, i, j, cache)\n",
    "    cache[(i, j)] = result\n",
    "    return result\n",
    "\n",
    "def _solve(records, counts, i, j, cache):\n",
    "  if j >= len(counts):\n",
    "    return 1 if all(map(lambda x : x != '#', records[i:])) else 0\n",
    "  \n",
    "  while i < len(records) and records[i] == '.':\n",
    "    i += 1\n",
    "  \n",
    "  if i >= len(records):\n",
    "    return 0\n",
    "\n",
    "  result = 0\n",
    "\n",
    "  if records[i] != '#':\n",
    "    result += solve(records, counts, i + 1, j, cache)\n",
    "  \n",
    "  count = counts[j]\n",
    "  while count > 0:\n",
    "    if i == len(records) or records[i] == '.':\n",
    "      return result\n",
    "    count -= 1\n",
    "    i += 1\n",
    "  \n",
    "  if i < len(records) and records[i] == '#':\n",
    "    return result\n",
    "\n",
    "  result += solve(records, counts, i + 1, j + 1, cache)\n",
    "  return result\n",
    "\n",
    "def first_part(input):\n",
    "  return sum(solve(records, counts, cache = {}) for records, counts in input)\n",
    "\n",
    "assert first_part(parse('sample')) == 21\n",
    "first_part(parse('input'))"
   ]
  },
  {
   "cell_type": "code",
   "execution_count": 173,
   "metadata": {},
   "outputs": [
    {
     "data": {
      "text/plain": [
       "17788038834112"
      ]
     },
     "execution_count": 173,
     "metadata": {},
     "output_type": "execute_result"
    }
   ],
   "source": [
    "from itertools import repeat\n",
    "\n",
    "def first_part(input):\n",
    "  return sum(solve('?'.join(repeat(records, 5)), counts * 5, cache = {}) for records, counts in input)\n",
    "\n",
    "assert first_part(parse('sample')) == 525152\n",
    "first_part(parse('input'))"
   ]
  }
 ],
 "metadata": {
  "kernelspec": {
   "display_name": ".venv",
   "language": "python",
   "name": "python3"
  },
  "language_info": {
   "codemirror_mode": {
    "name": "ipython",
    "version": 3
   },
   "file_extension": ".py",
   "mimetype": "text/x-python",
   "name": "python",
   "nbconvert_exporter": "python",
   "pygments_lexer": "ipython3",
   "version": "3.11.6"
  }
 },
 "nbformat": 4,
 "nbformat_minor": 2
}
