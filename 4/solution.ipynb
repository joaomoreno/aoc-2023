{
 "cells": [
  {
   "cell_type": "code",
   "execution_count": 61,
   "metadata": {},
   "outputs": [],
   "source": [
    "def parse(input):\n",
    "  return [l.strip() for l in open(input, 'r').readlines()]"
   ]
  },
  {
   "cell_type": "code",
   "execution_count": 62,
   "metadata": {},
   "outputs": [],
   "source": [
    "import re\n",
    "rx = r'^Card\\s+\\d+:(.*)\\|(.*)$'\n",
    "\n",
    "def process(input):\n",
    "  for line in input:\n",
    "    winning, mine = re.match(rx, line).groups()\n",
    "    yield set(map(int, winning.split())), list(map(int, mine.split()))"
   ]
  },
  {
   "cell_type": "code",
   "execution_count": 63,
   "metadata": {},
   "outputs": [
    {
     "name": "stdout",
     "output_type": "stream",
     "text": [
      "17803\n"
     ]
    }
   ],
   "source": [
    "def first_part(input):\n",
    "  result = 0\n",
    "  for winning, mine in process(input):\n",
    "    score = sum(1 for n in mine if n in winning)\n",
    "    if score > 0:\n",
    "      result += 2 ** (score - 1)\n",
    "  return result\n",
    "\n",
    "assert first_part(parse('sample')) == 13\n",
    "print(first_part(parse('input')))"
   ]
  },
  {
   "cell_type": "code",
   "execution_count": 64,
   "metadata": {},
   "outputs": [
    {
     "name": "stdout",
     "output_type": "stream",
     "text": [
      "5554894\n"
     ]
    }
   ],
   "source": [
    "def second_part(input):\n",
    "  input = list(process(input))\n",
    "  result = [1 for _ in range(len(input))]\n",
    "  for i in range(len(input)):\n",
    "    winning, mine = input[i]\n",
    "    score = sum(1 for n in mine if n in winning)\n",
    "    for j in range(i + 1, min(i + 1 + score, len(input))):\n",
    "      result[j] += result[i]\n",
    "  return sum(result)\n",
    "\n",
    "assert second_part(parse('sample')) == 30\n",
    "print(second_part(parse('input')))"
   ]
  }
 ],
 "metadata": {
  "kernelspec": {
   "display_name": ".venv",
   "language": "python",
   "name": "python3"
  },
  "language_info": {
   "codemirror_mode": {
    "name": "ipython",
    "version": 3
   },
   "file_extension": ".py",
   "mimetype": "text/x-python",
   "name": "python",
   "nbconvert_exporter": "python",
   "pygments_lexer": "ipython3",
   "version": "3.11.6"
  }
 },
 "nbformat": 4,
 "nbformat_minor": 2
}
