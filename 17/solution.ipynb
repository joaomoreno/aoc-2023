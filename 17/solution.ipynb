{
 "cells": [
  {
   "cell_type": "code",
   "execution_count": 90,
   "metadata": {},
   "outputs": [
    {
     "data": {
      "text/plain": [
       "[[2, 4, 1, 3, 4, 3, 2, 3, 1, 1, 3, 2, 3],\n",
       " [3, 2, 1, 5, 4, 5, 3, 5, 3, 5, 6, 2, 3],\n",
       " [3, 2, 5, 5, 2, 4, 5, 6, 5, 4, 2, 5, 4],\n",
       " [3, 4, 4, 6, 5, 8, 5, 8, 4, 5, 4, 5, 2],\n",
       " [4, 5, 4, 6, 6, 5, 7, 8, 6, 7, 5, 3, 6],\n",
       " [1, 4, 3, 8, 5, 9, 8, 7, 9, 8, 4, 5, 4],\n",
       " [4, 4, 5, 7, 8, 7, 6, 9, 8, 7, 7, 6, 6],\n",
       " [3, 6, 3, 7, 8, 7, 7, 9, 7, 9, 6, 5, 3],\n",
       " [4, 6, 5, 4, 9, 6, 7, 9, 8, 6, 8, 8, 7],\n",
       " [4, 5, 6, 4, 6, 7, 9, 9, 8, 6, 4, 5, 3],\n",
       " [1, 2, 2, 4, 6, 8, 6, 8, 6, 5, 5, 6, 3],\n",
       " [2, 5, 4, 6, 5, 4, 8, 8, 8, 7, 7, 3, 5],\n",
       " [4, 3, 2, 2, 6, 7, 4, 6, 5, 5, 5, 3, 3]]"
      ]
     },
     "execution_count": 90,
     "metadata": {},
     "output_type": "execute_result"
    }
   ],
   "source": [
    "def parse(input):\n",
    "  return [list(map(int, l.strip())) for l in open(input, 'r').readlines()]\n",
    "\n",
    "parse('sample')"
   ]
  },
  {
   "cell_type": "code",
   "execution_count": 91,
   "metadata": {},
   "outputs": [
    {
     "data": {
      "text/plain": [
       "861"
      ]
     },
     "execution_count": 91,
     "metadata": {},
     "output_type": "execute_result"
    }
   ],
   "source": [
    "import heapq\n",
    "\n",
    "def orthogonal(v):\n",
    "  yield (v[1], v[0])\n",
    "  yield (-v[1], -v[0])\n",
    "\n",
    "def add(a, b):\n",
    "  return (a[0] + b[0], a[1] + b[1])\n",
    "\n",
    "def get_next(pos, dir, steps):\n",
    "  if steps < 3:\n",
    "    yield add(pos, dir), dir, steps + 1\n",
    "  for w in orthogonal(dir):\n",
    "    yield add(pos, w), w, 1\n",
    "  \n",
    "def first_part(input):\n",
    "  d = dict()\n",
    "  q = []\n",
    "  heapq.heappush(q, (0, ((0, 0), (1, 0), 0)))\n",
    "\n",
    "  while q:\n",
    "    loss, (pos, dir, steps) = heapq.heappop(q)\n",
    "\n",
    "    for next_pos, next_dir, next_steps in get_next(pos, dir, steps):\n",
    "      x, y = next_pos\n",
    "\n",
    "      if x < 0 or y < 0 or x >= len(input[0]) or y >= len(input):\n",
    "        continue\n",
    "\n",
    "      next_loss = loss + input[y][x]\n",
    "\n",
    "      if (next_pos, next_dir, next_steps) not in d or d[(next_pos, next_dir, next_steps)] > next_loss:\n",
    "        d[(next_pos, next_dir, next_steps)] = next_loss\n",
    "        heapq.heappush(q, (next_loss, (next_pos, next_dir, next_steps)))\n",
    "\n",
    "  return min([d[(pos, dir, steps)] for pos, dir, steps in d if pos == (len(input[0]) - 1, len(input) - 1)])\n",
    "\n",
    "assert first_part(parse('sample')) == 102\n",
    "first_part(parse('input'))"
   ]
  },
  {
   "cell_type": "code",
   "execution_count": 92,
   "metadata": {},
   "outputs": [
    {
     "data": {
      "text/plain": [
       "1037"
      ]
     },
     "execution_count": 92,
     "metadata": {},
     "output_type": "execute_result"
    }
   ],
   "source": [
    "def add(a, b):\n",
    "  return (a[0] + b[0], a[1] + b[1])\n",
    "\n",
    "def get_next(pos, dir, steps):\n",
    "  if steps < 10:\n",
    "    yield add(pos, dir), dir, steps + 1\n",
    "  if steps >= 4:\n",
    "    for w in orthogonal(dir):\n",
    "      yield add(pos, w), w, 1\n",
    "\n",
    "def second_part(input):\n",
    "  d = dict()\n",
    "  q = []\n",
    "  heapq.heappush(q, (0, ((0, 0), (1, 0), 0)))\n",
    "  heapq.heappush(q, (0, ((0, 0), (0, 1), 0)))\n",
    "\n",
    "  while q:\n",
    "    loss, (pos, dir, steps) = heapq.heappop(q)\n",
    "\n",
    "    for next_pos, next_dir, next_steps in get_next(pos, dir, steps):\n",
    "      x, y = next_pos\n",
    "\n",
    "      if x < 0 or y < 0 or x >= len(input[0]) or y >= len(input):\n",
    "        continue\n",
    "\n",
    "      next_loss = loss + input[y][x]\n",
    "\n",
    "      if (next_pos, next_dir, next_steps) not in d or d[(next_pos, next_dir, next_steps)] > next_loss:\n",
    "        d[(next_pos, next_dir, next_steps)] = next_loss\n",
    "        heapq.heappush(q, (next_loss, (next_pos, next_dir, next_steps)))\n",
    "\n",
    "  return min([d[(pos, dir, steps)] for pos, dir, steps in d if pos == (len(input[0]) - 1, len(input) - 1) and steps >= 4])\n",
    "\n",
    "assert second_part(parse('sample')) == 94\n",
    "assert second_part(parse('sample2')) == 71\n",
    "second_part(parse('input'))"
   ]
  }
 ],
 "metadata": {
  "kernelspec": {
   "display_name": ".venv",
   "language": "python",
   "name": "python3"
  },
  "language_info": {
   "codemirror_mode": {
    "name": "ipython",
    "version": 3
   },
   "file_extension": ".py",
   "mimetype": "text/x-python",
   "name": "python",
   "nbconvert_exporter": "python",
   "pygments_lexer": "ipython3",
   "version": "3.11.6"
  }
 },
 "nbformat": 4,
 "nbformat_minor": 2
}
