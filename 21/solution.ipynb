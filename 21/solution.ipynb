{
 "cells": [
  {
   "cell_type": "code",
   "execution_count": 2,
   "metadata": {},
   "outputs": [
    {
     "data": {
      "text/plain": [
       "(['...........',\n",
       "  '.....###.#.',\n",
       "  '.###.##..#.',\n",
       "  '..#.#...#..',\n",
       "  '....#.#....',\n",
       "  '.##..S####.',\n",
       "  '.##..#...#.',\n",
       "  '.......##..',\n",
       "  '.##.#.####.',\n",
       "  '.##..##.##.',\n",
       "  '...........'],\n",
       " (5, 5))"
      ]
     },
     "execution_count": 2,
     "metadata": {},
     "output_type": "execute_result"
    }
   ],
   "source": [
    "def parse(input):\n",
    "  plot = [l.strip() for l in open(input, 'r').readlines()]\n",
    "  start = [s[0] for s in [[(x, y) for x, c in enumerate(l) if c == 'S'] for y, l in enumerate(plot)] if len(s) > 0][0]\n",
    "  return plot, start\n",
    "\n",
    "parse('sample')"
   ]
  },
  {
   "cell_type": "code",
   "execution_count": 4,
   "metadata": {},
   "outputs": [
    {
     "data": {
      "text/plain": [
       "3574"
      ]
     },
     "execution_count": 4,
     "metadata": {},
     "output_type": "execute_result"
    }
   ],
   "source": [
    "def neighbors(plot, pos):\n",
    "  for vx, vy in [(1, 0), (0, 1), (-1, 0), (0, -1)]:\n",
    "    x, y = pos[0] + vx, pos[1] + vy\n",
    "    if x < 0 or y < 0 or y >= len(plot) or x >= len(plot[y]):\n",
    "      continue\n",
    "    if plot[y][x] == '#':\n",
    "      continue\n",
    "    yield x, y\n",
    "\n",
    "def first_part(input, steps):\n",
    "  plot, start = input\n",
    "  positions = set([start])\n",
    "\n",
    "  for _ in range(steps):\n",
    "    next_positions = set()\n",
    "    for pos in positions:\n",
    "      next_positions.update(neighbors(plot, pos))\n",
    "    positions = next_positions\n",
    "\n",
    "  return len(positions)\n",
    "\n",
    "assert first_part(parse('sample'), 6) == 16\n",
    "first_part(parse('input'), 64)"
   ]
  },
  {
   "cell_type": "code",
   "execution_count": 51,
   "metadata": {},
   "outputs": [
    {
     "data": {
      "text/plain": [
       "600090522932118.5"
      ]
     },
     "execution_count": 51,
     "metadata": {},
     "output_type": "execute_result"
    }
   ],
   "source": [
    "import numpy as np\n",
    "\n",
    "def neighbors(plot, pos):\n",
    "  for vx, vy in [(1, 0), (0, 1), (-1, 0), (0, -1)]:\n",
    "    x, y = pos[0] + vx, pos[1] + vy\n",
    "    if plot[y % len(plot)][x % len(plot[0])] == '#':\n",
    "      continue\n",
    "    yield x, y\n",
    "\n",
    "def second_part(input, steps):\n",
    "  plot, start = input\n",
    "  positions = set([start])\n",
    "\n",
    "  x = []\n",
    "  y = []\n",
    "\n",
    "  for i in range(steps):\n",
    "    next_positions = set()\n",
    "    for pos in positions:\n",
    "      next_positions.update(neighbors(plot, pos))\n",
    "\n",
    "    if i == 65 or i == 65 + 131 or i == 65 + 131 * 2:\n",
    "      x.append(i)\n",
    "      y.append(len(positions))\n",
    "\n",
    "    if i == 329:\n",
    "      z = np.polyfit(x, y, 2)\n",
    "      p = np.poly1d(z)\n",
    "      return p(steps)\n",
    "\n",
    "    positions = next_positions\n",
    "\n",
    "  return round(len(positions))\n",
    "\n",
    "second_part(parse('input'), 26501365)"
   ]
  }
 ],
 "metadata": {
  "kernelspec": {
   "display_name": ".venv",
   "language": "python",
   "name": "python3"
  },
  "language_info": {
   "codemirror_mode": {
    "name": "ipython",
    "version": 3
   },
   "file_extension": ".py",
   "mimetype": "text/x-python",
   "name": "python",
   "nbconvert_exporter": "python",
   "pygments_lexer": "ipython3",
   "version": "3.11.6"
  }
 },
 "nbformat": 4,
 "nbformat_minor": 2
}
