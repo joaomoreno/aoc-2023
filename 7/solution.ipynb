{
 "cells": [
  {
   "cell_type": "code",
   "execution_count": 76,
   "metadata": {},
   "outputs": [],
   "source": [
    "def parse(input):\n",
    "  lines = (l.strip() for l in open(input, 'r').readlines())\n",
    "  pairs = (line.split() for line in lines)\n",
    "  return [(hand, int(bid)) for hand, bid in pairs]"
   ]
  },
  {
   "cell_type": "code",
   "execution_count": 78,
   "metadata": {},
   "outputs": [
    {
     "name": "stdout",
     "output_type": "stream",
     "text": [
      "246795406\n"
     ]
    }
   ],
   "source": [
    "from functools import cmp_to_key\n",
    "\n",
    "def get_type(hand):\n",
    "  card_set = set(hand)\n",
    "  if len(card_set) == 5:\n",
    "    return 0 # high card\n",
    "  elif len(card_set) == 4:\n",
    "    return 1 # one pair\n",
    "  elif len(card_set) == 3:\n",
    "    if hand.count(hand[0]) == 3 or hand.count(hand[1]) == 3 or hand.count(hand[2]) == 3:\n",
    "      return 3 # three of a kind\n",
    "    else:\n",
    "      return 2 # two pairs\n",
    "  elif len(card_set) == 2:\n",
    "    if hand.count(hand[0]) == 4 or hand.count(hand[1]) == 4:\n",
    "      return 5 # four of a kind\n",
    "    else:\n",
    "      return 4 # full house\n",
    "  else:\n",
    "    return 6 # five of a kind\n",
    "\n",
    "cards = [\"A\", \"K\", \"Q\", \"J\", \"T\", \"9\", \"8\", \"7\", \"6\", \"5\" ,\"4\", \"3\", \"2\"]\n",
    "\n",
    "def compare_hands(a, b):\n",
    "  type1, type2 = get_type(a[0]), get_type(b[0])\n",
    "  if type1 != type2:\n",
    "    return type1 - type2\n",
    "  else:\n",
    "    for i in range(0, 5):\n",
    "      if a[0][i] != b[0][i]:\n",
    "        return cards.index(b[0][i]) - cards.index(a[0][i])\n",
    "  assert False\n",
    "\n",
    "def first_part(input):\n",
    "  hands = sorted(input, key=cmp_to_key(compare_hands))\n",
    "  return sum((i + 1) * hands[i][1] for i in range(0, len(hands)))\n",
    "\n",
    "assert first_part(parse('sample')) == 6440\n",
    "print(first_part(parse('input')))"
   ]
  },
  {
   "cell_type": "code",
   "execution_count": 94,
   "metadata": {},
   "outputs": [
    {
     "name": "stdout",
     "output_type": "stream",
     "text": [
      "249356515\n"
     ]
    }
   ],
   "source": [
    "from itertools import combinations_with_replacement\n",
    "\n",
    "cards2 = [\"A\", \"K\", \"Q\", \"T\", \"9\", \"8\", \"7\", \"6\", \"5\" ,\"4\", \"3\", \"2\", \"J\"]\n",
    "\n",
    "def get_joker_hand(hand, jokers):\n",
    "  jokers_it = iter(jokers)\n",
    "  return [next(jokers_it) if card == \"J\" else card for card in hand]\n",
    "\n",
    "def get_type2(hand):\n",
    "  joker_count = hand.count(\"J\")\n",
    "\n",
    "  if joker_count == 0:\n",
    "    return get_type(hand)\n",
    "  elif joker_count == 5:\n",
    "    return 6\n",
    "\n",
    "  fixed = set(card for card in hand if card != \"J\")\n",
    "  return max(get_type(get_joker_hand(hand, jokers)) for jokers in combinations_with_replacement(fixed, joker_count))\n",
    "\n",
    "def compare_hands2(a, b):\n",
    "  type1, type2 = get_type2(a[0]), get_type2(b[0])\n",
    "  if type1 != type2:\n",
    "    return type1 - type2\n",
    "  else:\n",
    "    for i in range(0, 5):\n",
    "      if a[0][i] != b[0][i]:\n",
    "        return cards2.index(b[0][i]) - cards2.index(a[0][i])\n",
    "  assert False\n",
    "\n",
    "def second_part(input):\n",
    "  hands = sorted(input, key=cmp_to_key(compare_hands2))\n",
    "  return sum((i + 1) * hands[i][1] for i in range(0, len(hands)))\n",
    "\n",
    "assert second_part(parse('sample')) == 5905\n",
    "print(second_part(parse('input')))"
   ]
  }
 ],
 "metadata": {
  "kernelspec": {
   "display_name": ".venv",
   "language": "python",
   "name": "python3"
  },
  "language_info": {
   "codemirror_mode": {
    "name": "ipython",
    "version": 3
   },
   "file_extension": ".py",
   "mimetype": "text/x-python",
   "name": "python",
   "nbconvert_exporter": "python",
   "pygments_lexer": "ipython3",
   "version": "3.11.6"
  }
 },
 "nbformat": 4,
 "nbformat_minor": 2
}
