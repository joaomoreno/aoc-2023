{
 "cells": [
  {
   "cell_type": "code",
   "execution_count": 77,
   "metadata": {},
   "outputs": [
    {
     "data": {
      "text/plain": [
       "('RL',\n",
       " {'AAA': ('BBB', 'CCC'),\n",
       "  'BBB': ('DDD', 'EEE'),\n",
       "  'CCC': ('ZZZ', 'GGG'),\n",
       "  'DDD': ('DDD', 'DDD'),\n",
       "  'EEE': ('EEE', 'EEE'),\n",
       "  'GGG': ('GGG', 'GGG'),\n",
       "  'ZZZ': ('ZZZ', 'ZZZ')})"
      ]
     },
     "execution_count": 77,
     "metadata": {},
     "output_type": "execute_result"
    }
   ],
   "source": [
    "import re\n",
    "rx = r'^(\\w{3}) = \\((\\w{3}), (\\w{3})\\)$'\n",
    "\n",
    "def parse(input):\n",
    "  lines = [l.strip() for l in open(input, 'r').readlines()]\n",
    "  instructions = lines[0]\n",
    "  network = [re.match(rx, line).groups() for line in lines[2:]]\n",
    "  network = dict((n[0], (n[1], n[2])) for n in network)\n",
    "  return instructions, network\n",
    "\n",
    "parse('sample')"
   ]
  },
  {
   "cell_type": "code",
   "execution_count": 78,
   "metadata": {},
   "outputs": [
    {
     "name": "stdout",
     "output_type": "stream",
     "text": [
      "17621\n"
     ]
    }
   ],
   "source": [
    "def first_part(input):\n",
    "  instructions, network = input\n",
    "  result = 0\n",
    "  current_instruction = 0\n",
    "  current = 'AAA'\n",
    "  while current != 'ZZZ':\n",
    "    index = 0 if instructions[current_instruction] == 'L' else 1\n",
    "    current = network[current][index]\n",
    "    current_instruction = (current_instruction + 1) % len(instructions)\n",
    "    result += 1\n",
    "  return result\n",
    "\n",
    "assert first_part(parse('sample')) == 2\n",
    "assert first_part(parse('sample2')) == 6\n",
    "print(first_part(parse('input')))"
   ]
  },
  {
   "cell_type": "code",
   "execution_count": 79,
   "metadata": {},
   "outputs": [
    {
     "name": "stdout",
     "output_type": "stream",
     "text": [
      "17621\n"
     ]
    }
   ],
   "source": [
    "def first_part(input):\n",
    "  instructions, network = input\n",
    "  result = 0\n",
    "  current_instruction = 0\n",
    "  current = 'AAA'\n",
    "\n",
    "  while current != 'ZZZ':\n",
    "    index = 0 if instructions[current_instruction] == 'L' else 1\n",
    "    current = network[current][index]\n",
    "    current_instruction = (current_instruction + 1) % len(instructions)\n",
    "    result += 1\n",
    "  \n",
    "  return result\n",
    "\n",
    "assert first_part(parse('sample')) == 2\n",
    "assert first_part(parse('sample2')) == 6\n",
    "print(first_part(parse('input')))"
   ]
  },
  {
   "cell_type": "code",
   "execution_count": 80,
   "metadata": {},
   "outputs": [
    {
     "name": "stdout",
     "output_type": "stream",
     "text": [
      "20685524831999\n"
     ]
    }
   ],
   "source": [
    "from functools import reduce\n",
    "\n",
    "def gcd(a, b):\n",
    "  while b:\n",
    "    a, b = b, a % b\n",
    "  return a\n",
    "\n",
    "def lcd(a, b):\n",
    "  return a * b // gcd(a, b)\n",
    "\n",
    "def get_first_Z(instructions, network, current):\n",
    "  result = 0\n",
    "  current_instruction = 0\n",
    "\n",
    "  while current[-1] != 'Z':\n",
    "    index = 0 if instructions[current_instruction] == 'L' else 1\n",
    "    current = network[current][index]\n",
    "    current_instruction = (current_instruction + 1) % len(instructions)\n",
    "    result += 1\n",
    "\n",
    "  return result\n",
    "\n",
    "def second_part(input):\n",
    "  instructions, network = input\n",
    "  currents = [node for node in network.keys() if node[-1] == 'A']\n",
    "  factors = [get_first_Z(instructions, network, current) for current in currents]\n",
    "  return reduce(lambda x, y: lcd(x, y), factors)\n",
    "\n",
    "assert second_part(parse('sample3')) == 6\n",
    "print(second_part(parse('input')))"
   ]
  }
 ],
 "metadata": {
  "kernelspec": {
   "display_name": ".venv",
   "language": "python",
   "name": "python3"
  },
  "language_info": {
   "codemirror_mode": {
    "name": "ipython",
    "version": 3
   },
   "file_extension": ".py",
   "mimetype": "text/x-python",
   "name": "python",
   "nbconvert_exporter": "python",
   "pygments_lexer": "ipython3",
   "version": "3.11.6"
  }
 },
 "nbformat": 4,
 "nbformat_minor": 2
}
