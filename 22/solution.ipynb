{
 "cells": [
  {
   "cell_type": "code",
   "execution_count": 46,
   "metadata": {},
   "outputs": [
    {
     "data": {
      "text/plain": [
       "[((1, 0, 1), (1, 2, 1)),\n",
       " ((0, 0, 2), (2, 0, 2)),\n",
       " ((0, 2, 3), (2, 2, 3)),\n",
       " ((0, 0, 4), (0, 2, 4)),\n",
       " ((2, 0, 5), (2, 2, 5)),\n",
       " ((0, 1, 6), (2, 1, 6)),\n",
       " ((1, 1, 8), (1, 1, 9))]"
      ]
     },
     "execution_count": 46,
     "metadata": {},
     "output_type": "execute_result"
    }
   ],
   "source": [
    "def parse(input):\n",
    "  lines = [l.strip().split('~') for l in open(input, 'r').readlines()]\n",
    "  return [(tuple(map(int, a.split(','))), tuple(map(int, b.split(',')))) for a, b in lines]\n",
    "\n",
    "parse('sample')"
   ]
  },
  {
   "cell_type": "code",
   "execution_count": 47,
   "metadata": {},
   "outputs": [
    {
     "data": {
      "text/plain": [
       "443"
      ]
     },
     "execution_count": 47,
     "metadata": {},
     "output_type": "execute_result"
    }
   ],
   "source": [
    "import numpy as np\n",
    "\n",
    "def first_part(input):\n",
    "  bricks = []\n",
    "  maxes = (0, 0, 0)\n",
    "  for i, ((min_x, min_y, min_z), (max_x, max_y, max_z)) in enumerate(input):\n",
    "    maxes = (max(maxes[0], max_x + 1), max(maxes[1], max_y + 1), max(maxes[2], max_z + 1))\n",
    "    bricks.append([[min_x, min_y, min_z], [max_x, max_y, max_z]])\n",
    "  \n",
    "  space = np.zeros(maxes, dtype=int)\n",
    "\n",
    "  for ((min_x, min_y, min_z), (max_x, max_y, max_z)) in input:\n",
    "    for x, y, z in np.ndindex((max_x - min_x + 1, max_y - min_y + 1, max_z - min_z + 1)):\n",
    "      space[min_x + x, min_y + y, min_z + z] = 1\n",
    "\n",
    "  bricks.sort(key=lambda b: b[0][2])\n",
    "\n",
    "  # settle bricks\n",
    "  for brick in bricks:\n",
    "    slice = space[brick[0][0]:brick[1][0] + 1, brick[0][1]:brick[1][1] + 1, brick[0][2]:brick[1][2] + 1]\n",
    "    assert np.all(slice == 1)\n",
    "\n",
    "    space[brick[0][0]:brick[1][0] + 1, brick[0][1]:brick[1][1] + 1, brick[0][2]:brick[1][2] + 1] = 0\n",
    "    while brick[0][2] - 1 > 0 and np.all(space[brick[0][0]:brick[1][0] + 1, brick[0][1]:brick[1][1] + 1, brick[0][2] - 1:brick[1][2]] == 0):\n",
    "      brick[0][2] -= 1\n",
    "      brick[1][2] -= 1\n",
    "    space[brick[0][0]:brick[1][0] + 1, brick[0][1]:brick[1][1] + 1, brick[0][2]:brick[1][2] + 1] = 1\n",
    "\n",
    "  result = len(bricks)\n",
    "  for i in range(len(bricks)):\n",
    "    space[bricks[i][0][0]:bricks[i][1][0] + 1, bricks[i][0][1]:bricks[i][1][1] + 1, bricks[i][0][2]:bricks[i][1][2] + 1] = 0\n",
    "    for j in range(i + 1, len(bricks)):\n",
    "      would_move = False\n",
    "\n",
    "      space[bricks[j][0][0]:bricks[j][1][0] + 1, bricks[j][0][1]:bricks[j][1][1] + 1, bricks[j][0][2]:bricks[j][1][2] + 1] = 0\n",
    "      if bricks[j][0][2] - 1 > 0 and np.all(space[bricks[j][0][0]:bricks[j][1][0] + 1, bricks[j][0][1]:bricks[j][1][1] + 1, bricks[j][0][2] - 1:bricks[j][1][2]] == 0):\n",
    "        would_move = True\n",
    "      space[bricks[j][0][0]:bricks[j][1][0] + 1, bricks[j][0][1]:bricks[j][1][1] + 1, bricks[j][0][2]:bricks[j][1][2] + 1] = 1\n",
    "\n",
    "      if would_move:\n",
    "        result -= 1\n",
    "        break\n",
    "\n",
    "    space[bricks[i][0][0]:bricks[i][1][0] + 1, bricks[i][0][1]:bricks[i][1][1] + 1, bricks[i][0][2]:bricks[i][1][2] + 1] = 1\n",
    "  return result\n",
    "\n",
    "assert first_part(parse('sample')) == 5\n",
    "first_part(parse('input'))"
   ]
  },
  {
   "cell_type": "code",
   "execution_count": 57,
   "metadata": {},
   "outputs": [
    {
     "data": {
      "text/plain": [
       "69915"
      ]
     },
     "execution_count": 57,
     "metadata": {},
     "output_type": "execute_result"
    }
   ],
   "source": [
    "import numpy as np\n",
    "from copy import deepcopy\n",
    "\n",
    "def second_part(input):\n",
    "  bricks = []\n",
    "  maxes = (0, 0, 0)\n",
    "  for i, ((min_x, min_y, min_z), (max_x, max_y, max_z)) in enumerate(input):\n",
    "    maxes = (max(maxes[0], max_x + 1), max(maxes[1], max_y + 1), max(maxes[2], max_z + 1))\n",
    "    bricks.append([[min_x, min_y, min_z], [max_x, max_y, max_z]])\n",
    "  \n",
    "  space = np.zeros(maxes, dtype=int)\n",
    "\n",
    "  for ((min_x, min_y, min_z), (max_x, max_y, max_z)) in input:\n",
    "    for x, y, z in np.ndindex((max_x - min_x + 1, max_y - min_y + 1, max_z - min_z + 1)):\n",
    "      space[min_x + x, min_y + y, min_z + z] = 1\n",
    "\n",
    "  bricks.sort(key=lambda b: b[0][2])\n",
    "\n",
    "  # settle bricks\n",
    "  for brick in bricks:\n",
    "    slice = space[brick[0][0]:brick[1][0] + 1, brick[0][1]:brick[1][1] + 1, brick[0][2]:brick[1][2] + 1]\n",
    "    assert np.all(slice == 1)\n",
    "\n",
    "    space[brick[0][0]:brick[1][0] + 1, brick[0][1]:brick[1][1] + 1, brick[0][2]:brick[1][2] + 1] = 0\n",
    "    while brick[0][2] - 1 > 0 and np.all(space[brick[0][0]:brick[1][0] + 1, brick[0][1]:brick[1][1] + 1, brick[0][2] - 1:brick[1][2]] == 0):\n",
    "      brick[0][2] -= 1\n",
    "      brick[1][2] -= 1\n",
    "    space[brick[0][0]:brick[1][0] + 1, brick[0][1]:brick[1][1] + 1, brick[0][2]:brick[1][2] + 1] = 1\n",
    "\n",
    "  result = 0\n",
    "  for i in range(len(bricks)):\n",
    "    s = space.copy()\n",
    "    b = deepcopy(bricks)\n",
    "    falling = set()\n",
    "    \n",
    "    s[b[i][0][0]:b[i][1][0] + 1, b[i][0][1]:b[i][1][1] + 1, b[i][0][2]:b[i][1][2] + 1] = 0\n",
    "    for j in range(i + 1, len(bricks)):\n",
    "      s[b[j][0][0]:b[j][1][0] + 1, b[j][0][1]:b[j][1][1] + 1, b[j][0][2]:b[j][1][2] + 1] = 0\n",
    "      while b[j][0][2] - 1 > 0 and np.all(s[b[j][0][0]:b[j][1][0] + 1, b[j][0][1]:b[j][1][1] + 1, b[j][0][2] - 1:b[j][1][2]] == 0):\n",
    "        b[j][0][2] -= 1\n",
    "        b[j][1][2] -= 1\n",
    "        falling.add(j)\n",
    "      s[b[j][0][0]:b[j][1][0] + 1, b[j][0][1]:b[j][1][1] + 1, b[j][0][2]:b[j][1][2] + 1] = 1\n",
    "\n",
    "    s[b[i][0][0]:b[i][1][0] + 1, b[i][0][1]:b[i][1][1] + 1, b[i][0][2]:b[i][1][2] + 1] = 1\n",
    "    result += len(falling)\n",
    "  return result\n",
    "\n",
    "assert second_part(parse('sample')) == 7\n",
    "second_part(parse('input'))"
   ]
  }
 ],
 "metadata": {
  "kernelspec": {
   "display_name": ".venv",
   "language": "python",
   "name": "python3"
  },
  "language_info": {
   "codemirror_mode": {
    "name": "ipython",
    "version": 3
   },
   "file_extension": ".py",
   "mimetype": "text/x-python",
   "name": "python",
   "nbconvert_exporter": "python",
   "pygments_lexer": "ipython3",
   "version": "3.11.6"
  }
 },
 "nbformat": 4,
 "nbformat_minor": 2
}
