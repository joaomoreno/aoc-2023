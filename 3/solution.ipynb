{
 "cells": [
  {
   "cell_type": "code",
   "execution_count": 1,
   "metadata": {},
   "outputs": [],
   "source": [
    "def parse(input):\n",
    "  return [l.strip() for l in open(input, 'r').readlines()]"
   ]
  },
  {
   "cell_type": "code",
   "execution_count": 18,
   "metadata": {},
   "outputs": [
    {
     "name": "stdout",
     "output_type": "stream",
     "text": [
      "540131\n"
     ]
    }
   ],
   "source": [
    "def process(input):\n",
    "  numbers = []\n",
    "  symbols = []\n",
    "  current_number_x = None\n",
    "  current_number = ''\n",
    "\n",
    "  for y in range(len(input)):\n",
    "    for x in range(len(input[y])):\n",
    "      if input[y][x].isdigit():\n",
    "        if current_number_x is None:\n",
    "          current_number_x = x\n",
    "        current_number += input[y][x]\n",
    "      else:\n",
    "        if current_number_x is not None:\n",
    "          numbers.append(((current_number_x, y), current_number))\n",
    "        current_number_x = None\n",
    "        current_number = ''\n",
    "        if input[y][x] != '.':\n",
    "          symbols.append(((x, y), input[y][x]))\n",
    "    if current_number_x is not None:\n",
    "      numbers.append(((current_number_x, y), current_number))\n",
    "    current_number_x = None\n",
    "    current_number = ''\n",
    "  return numbers, symbols\n",
    "\n",
    "def is_adjacent(number, pos):\n",
    "  x, y = pos\n",
    "  (number_x, number_y), number = number\n",
    "  number_min_x = number_x\n",
    "  number_max_x = number_x + len(number) - 1\n",
    "  return number_min_x - 1 <= x <= number_max_x + 1 and number_y - 1 <= y <= number_y + 1\n",
    "\n",
    "def first_part(input):\n",
    "  numbers, symbols = process(input)\n",
    "\n",
    "  result = 0\n",
    "  for number in numbers:\n",
    "    if any(is_adjacent(number, symbol[0]) for symbol in symbols):\n",
    "      result += int(number[1])\n",
    "  return result\n",
    "\n",
    "assert first_part(parse('sample')) == 4361\n",
    "print(first_part(parse('input')))"
   ]
  },
  {
   "cell_type": "code",
   "execution_count": 21,
   "metadata": {},
   "outputs": [
    {
     "name": "stdout",
     "output_type": "stream",
     "text": [
      "86879020\n"
     ]
    }
   ],
   "source": [
    "def second_part(input):\n",
    "  numbers, symbols = process(input)\n",
    "  result = 0\n",
    "  for gear in (s for s in symbols if s[1] == '*'):\n",
    "    adjacent_numbers = [n for n in numbers if is_adjacent(n, gear[0])]\n",
    "    if len(adjacent_numbers) == 2:\n",
    "      result += int(adjacent_numbers[0][1]) * int(adjacent_numbers[1][1])\n",
    "  return result\n",
    "\n",
    "assert second_part(parse('sample')) == 467835\n",
    "print(second_part(parse('input')))"
   ]
  }
 ],
 "metadata": {
  "kernelspec": {
   "display_name": ".venv",
   "language": "python",
   "name": "python3"
  },
  "language_info": {
   "codemirror_mode": {
    "name": "ipython",
    "version": 3
   },
   "file_extension": ".py",
   "mimetype": "text/x-python",
   "name": "python",
   "nbconvert_exporter": "python",
   "pygments_lexer": "ipython3",
   "version": "3.11.6"
  }
 },
 "nbformat": 4,
 "nbformat_minor": 2
}
