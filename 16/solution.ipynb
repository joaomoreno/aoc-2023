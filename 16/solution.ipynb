{
 "cells": [
  {
   "cell_type": "code",
   "execution_count": 1,
   "metadata": {},
   "outputs": [
    {
     "data": {
      "text/plain": [
       "['.|...\\\\....',\n",
       " '|.-.\\\\.....',\n",
       " '.....|-...',\n",
       " '........|.',\n",
       " '..........',\n",
       " '.........\\\\',\n",
       " '..../.\\\\\\\\..',\n",
       " '.-.-/..|..',\n",
       " '.|....-|.\\\\',\n",
       " '..//.|....']"
      ]
     },
     "execution_count": 1,
     "metadata": {},
     "output_type": "execute_result"
    }
   ],
   "source": [
    "def parse(input):\n",
    "  return [l.strip() for l in open(input, 'r').readlines()]\n",
    "\n",
    "parse('sample')"
   ]
  },
  {
   "cell_type": "code",
   "execution_count": 11,
   "metadata": {},
   "outputs": [
    {
     "data": {
      "text/plain": [
       "7632"
      ]
     },
     "execution_count": 11,
     "metadata": {},
     "output_type": "execute_result"
    }
   ],
   "source": [
    "def first_part(input, start = ((-1, 0), (1, 0))):\n",
    "  visited = set()\n",
    "  tiles = set()\n",
    "  queue = [start]\n",
    "\n",
    "  while queue:\n",
    "    current = queue.pop()\n",
    "    position, direction = current\n",
    "    position = (position[0] + direction[0], position[1] + direction[1])\n",
    "    x, y = position\n",
    "\n",
    "    if x < 0 or y < 0 or x >= len(input[0]) or y >= len(input):\n",
    "      continue\n",
    "\n",
    "    next = (position, direction)\n",
    "\n",
    "    if next in visited:\n",
    "      continue\n",
    "\n",
    "    visited.add(next)\n",
    "    tiles.add(position)\n",
    "    c = input[position[1]][position[0]]\n",
    "\n",
    "    if c == '/':\n",
    "      if direction[0] != 0:\n",
    "        queue.append((position, (0, -direction[0])))\n",
    "      else:\n",
    "        queue.append((position, (-direction[1], 0)))\n",
    "    elif c == '\\\\':\n",
    "      if direction[0] != 0:\n",
    "        queue.append((position, (0, direction[0])))\n",
    "      else:\n",
    "        queue.append((position, (direction[1], 0)))\n",
    "    elif c == '|' and direction[0] != 0:\n",
    "      queue.append((position, (0, -1)))\n",
    "      queue.append((position, (0, 1)))\n",
    "    elif c == '-' and direction[1] != 0:\n",
    "      queue.append((position, (-1, 0)))\n",
    "      queue.append((position, (1, 0)))\n",
    "    else:\n",
    "      queue.append(next)\n",
    "  \n",
    "  return len(tiles)\n",
    "\n",
    "assert first_part(parse('sample')) == 46\n",
    "first_part(parse('input'))"
   ]
  },
  {
   "cell_type": "code",
   "execution_count": 14,
   "metadata": {},
   "outputs": [
    {
     "data": {
      "text/plain": [
       "8023"
      ]
     },
     "execution_count": 14,
     "metadata": {},
     "output_type": "execute_result"
    }
   ],
   "source": [
    "def get_starts(input):\n",
    "  for x in range(len(input[0])):\n",
    "    yield ((x, -1), (0, 1))\n",
    "    yield ((x, len(input)), (0, -1))\n",
    "  for y in range(len(input)):\n",
    "    yield ((-1, y), (1, 0))\n",
    "    yield ((len(input[0]), y), (-1, 0))\n",
    "\n",
    "def second_part(input):\n",
    "  return max([first_part(input, start) for start in get_starts(input)])\n",
    "\n",
    "assert second_part(parse('sample')) == 51\n",
    "second_part(parse('input'))"
   ]
  }
 ],
 "metadata": {
  "kernelspec": {
   "display_name": ".venv",
   "language": "python",
   "name": "python3"
  },
  "language_info": {
   "codemirror_mode": {
    "name": "ipython",
    "version": 3
   },
   "file_extension": ".py",
   "mimetype": "text/x-python",
   "name": "python",
   "nbconvert_exporter": "python",
   "pygments_lexer": "ipython3",
   "version": "3.11.6"
  }
 },
 "nbformat": 4,
 "nbformat_minor": 2
}
