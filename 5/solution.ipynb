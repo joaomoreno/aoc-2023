{
 "cells": [
  {
   "cell_type": "code",
   "execution_count": 145,
   "metadata": {},
   "outputs": [],
   "source": [
    "def parse(input):\n",
    "  return [l.strip() for l in open(input, 'r').readlines()]"
   ]
  },
  {
   "cell_type": "code",
   "execution_count": 146,
   "metadata": {},
   "outputs": [],
   "source": [
    "import re\n",
    "seeds_rx = r'^seeds: (.*)$'\n",
    "map_rx = r'^(.*)-to-(.*) map:$'\n",
    "\n",
    "def process(input):\n",
    "  maps = []\n",
    "  state = 'init'\n",
    "\n",
    "  for line in input:\n",
    "    if state == 'init':\n",
    "      seeds = list(map(int, re.match(seeds_rx, line).group(1).split()))\n",
    "      state = 'after_seeds'\n",
    "    elif state == 'after_seeds':\n",
    "      state = 'map'\n",
    "    elif state == 'map':\n",
    "      current_map = re.match(map_rx, line).groups()\n",
    "      current_mappings = []\n",
    "      state = 'mapping'\n",
    "    elif state == 'mapping' and len(line) > 0:\n",
    "      current_mappings.append(tuple(map(int, line.split())))\n",
    "    else:\n",
    "      maps.append((current_map, current_mappings))\n",
    "      state = 'map'\n",
    "  maps.append((current_map, current_mappings))\n",
    "  return (seeds, maps)"
   ]
  },
  {
   "cell_type": "code",
   "execution_count": 147,
   "metadata": {},
   "outputs": [
    {
     "name": "stdout",
     "output_type": "stream",
     "text": [
      "51580674\n"
     ]
    }
   ],
   "source": [
    "def first_part(input):\n",
    "  seeds, maps = process(input)\n",
    "  locations = []\n",
    "\n",
    "  for x in seeds:\n",
    "    for _, mappings in maps:\n",
    "      for (a, b, l) in mappings:\n",
    "        if x >= b and x < b + l:\n",
    "          x += a - b\n",
    "          break\n",
    "    locations.append(x)\n",
    "    \n",
    "  return min(locations)\n",
    "\n",
    "assert first_part(parse('sample')) == 35\n",
    "print(first_part(parse('input')))"
   ]
  },
  {
   "cell_type": "code",
   "execution_count": 148,
   "metadata": {},
   "outputs": [],
   "source": [
    "def subtract(a, b):\n",
    "  before = a[0], min(b[0], a[1])\n",
    "  after = max(b[1], a[0]), a[1]\n",
    "  if before[1] > before[0]:\n",
    "    yield before\n",
    "  if after[1] > after[0]:\n",
    "    yield after\n",
    "\n",
    "assert list(subtract((0, 10), (3, 5))) == [(0, 3), (5, 10)]\n",
    "assert list(subtract((10, 20), (3, 5))) == [(10, 20)]\n",
    "assert list(subtract((10, 20), (30, 35))) == [(10, 20)]\n",
    "\n",
    "def subtract_all(a, l):\n",
    "  result = [a]\n",
    "  for b in l:\n",
    "    r = []\n",
    "    for a in result:\n",
    "      r += list(subtract(a, b))\n",
    "    result = r\n",
    "  return result\n",
    "\n",
    "assert list(subtract_all((0, 10), [(3, 5), (7, 8)])) == [(0, 3), (5, 7), (8, 10)]\n",
    "\n",
    "def intersect(a, b):\n",
    "  start, end = max(a[0], b[0]), min(a[1], b[1])\n",
    "  return (start, end) if start < end else None\n",
    "\n",
    "assert intersect((0, 10), (3, 5)) == (3, 5)\n",
    "assert intersect((10, 20), (3, 5)) == None\n",
    "assert intersect((10, 20), (30, 35)) == None"
   ]
  },
  {
   "cell_type": "code",
   "execution_count": 149,
   "metadata": {},
   "outputs": [
    {
     "name": "stdout",
     "output_type": "stream",
     "text": [
      "99751240\n"
     ]
    }
   ],
   "source": [
    "def second_part(input):\n",
    "  seeds, maps = process(input)\n",
    "  ranges = list(map(lambda i: (i[0], i[0] + i[1]), zip(seeds[0::2], seeds[1::2])))\n",
    "  maps = [list(map(lambda m: (m[1], m[1] + m[2], m[0] - m[1]), m[1])) for m in maps]\n",
    "\n",
    "  for each_map in maps:\n",
    "    all_new_ranges = []\n",
    "    for range in ranges:\n",
    "      ranges_to_subtract = []\n",
    "      for mapping in each_map:\n",
    "        if mapped_range := intersect(range, mapping):\n",
    "          ranges_to_subtract += [mapped_range]\n",
    "          all_new_ranges += [tuple(map(lambda x: x + mapping[2], mapped_range))]\n",
    "      all_new_ranges += list(subtract_all(range, ranges_to_subtract))\n",
    "    ranges = all_new_ranges\n",
    "  return min(map(lambda r: r[0], ranges))\n",
    "\n",
    "assert second_part(parse('sample')) == 46\n",
    "print(second_part(parse('input')))"
   ]
  }
 ],
 "metadata": {
  "kernelspec": {
   "display_name": ".venv",
   "language": "python",
   "name": "python3"
  },
  "language_info": {
   "codemirror_mode": {
    "name": "ipython",
    "version": 3
   },
   "file_extension": ".py",
   "mimetype": "text/x-python",
   "name": "python",
   "nbconvert_exporter": "python",
   "pygments_lexer": "ipython3",
   "version": "3.11.6"
  }
 },
 "nbformat": 4,
 "nbformat_minor": 2
}
