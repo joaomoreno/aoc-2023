{
 "cells": [
  {
   "cell_type": "code",
   "execution_count": 21,
   "metadata": {},
   "outputs": [
    {
     "data": {
      "text/plain": [
       "['O....#....',\n",
       " 'O.OO#....#',\n",
       " '.....##...',\n",
       " 'OO.#O....O',\n",
       " '.O.....O#.',\n",
       " 'O.#..O.#.#',\n",
       " '..O..#O..O',\n",
       " '.......O..',\n",
       " '#....###..',\n",
       " '#OO..#....']"
      ]
     },
     "execution_count": 21,
     "metadata": {},
     "output_type": "execute_result"
    }
   ],
   "source": [
    "def parse(input):\n",
    "  return [l.strip() for l in open(input, 'r').readlines()]\n",
    "\n",
    "parse('sample')"
   ]
  },
  {
   "cell_type": "code",
   "execution_count": 22,
   "metadata": {},
   "outputs": [
    {
     "data": {
      "text/plain": [
       "105461"
      ]
     },
     "execution_count": 22,
     "metadata": {},
     "output_type": "execute_result"
    }
   ],
   "source": [
    "def get_weight(height, base, rocks):\n",
    "  return sum([height - base - i for i in range(rocks)])\n",
    "\n",
    "def first_part(input):\n",
    "  result = 0\n",
    "  for x in range(len(input[0])):\n",
    "    base = 0\n",
    "    rocks = 0\n",
    "    for y in range(len(input)):\n",
    "      if input[y][x] == 'O':\n",
    "        rocks += 1\n",
    "      elif input[y][x] == '#':\n",
    "        result += get_weight(len(input), base, rocks)\n",
    "        base = y + 1\n",
    "        rocks = 0\n",
    "    result += get_weight(len(input), base, rocks)\n",
    "  return result\n",
    "\n",
    "assert first_part(parse('sample')) == 136\n",
    "first_part(parse('input'))"
   ]
  },
  {
   "cell_type": "code",
   "execution_count": 23,
   "metadata": {},
   "outputs": [
    {
     "data": {
      "text/plain": [
       "102829"
      ]
     },
     "execution_count": 23,
     "metadata": {},
     "output_type": "execute_result"
    }
   ],
   "source": [
    "import numpy as np\n",
    "\n",
    "def roll(dish):\n",
    "  for x in range(dish.shape[1]):\n",
    "    s = i = 0\n",
    "    c = 0\n",
    "    while i < dish.shape[0]:\n",
    "      if dish[i][x] == 'O':\n",
    "        c += 1\n",
    "      elif dish[i][x] == '#':\n",
    "        while s < i:\n",
    "          if c > 0:\n",
    "            dish[s][x] = 'O'\n",
    "            c -= 1\n",
    "          else:\n",
    "            dish[s][x] = '.'\n",
    "          s += 1\n",
    "        s += 1\n",
    "      i += 1\n",
    "    while s < i:\n",
    "      if c > 0:\n",
    "        dish[s][x] = 'O'\n",
    "        c -= 1\n",
    "      else:\n",
    "        dish[s][x] = '.'\n",
    "      s += 1\n",
    "  return dish\n",
    "\n",
    "def cycle(dish):\n",
    "  for _ in range(4):\n",
    "    dish = np.rot90(roll(dish), 3)\n",
    "  return dish\n",
    "\n",
    "def get_weight(dish):\n",
    "  result = 0\n",
    "  for y in range(dish.shape[0]):\n",
    "    for x in range(dish.shape[1]):\n",
    "      if dish[y][x] == 'O':\n",
    "        result += dish.shape[0] - y\n",
    "  return result\n",
    "\n",
    "def second_part(input):\n",
    "  dish = np.array([list(l) for l in input])\n",
    "\n",
    "  hashes = [hash(dish.tobytes())]\n",
    "  for i in range(1, 1000):\n",
    "    dish = cycle(dish)\n",
    "    checksum = hash(dish.tobytes())\n",
    "    try:\n",
    "      j = hashes.index(checksum)\n",
    "      cycles = (1000000000 - j) % (i - j)\n",
    "      break\n",
    "    except:\n",
    "      hashes.append(checksum)\n",
    "\n",
    "  for i in range(cycles):\n",
    "    dish = cycle(dish)\n",
    "    \n",
    "  return get_weight(dish)\n",
    "\n",
    "assert second_part(parse('sample')) == 64\n",
    "second_part(parse('input'))"
   ]
  }
 ],
 "metadata": {
  "kernelspec": {
   "display_name": ".venv",
   "language": "python",
   "name": "python3"
  },
  "language_info": {
   "codemirror_mode": {
    "name": "ipython",
    "version": 3
   },
   "file_extension": ".py",
   "mimetype": "text/x-python",
   "name": "python",
   "nbconvert_exporter": "python",
   "pygments_lexer": "ipython3",
   "version": "3.11.6"
  }
 },
 "nbformat": 4,
 "nbformat_minor": 2
}
