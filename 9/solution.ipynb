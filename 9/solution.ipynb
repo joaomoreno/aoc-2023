{
 "cells": [
  {
   "cell_type": "code",
   "execution_count": 11,
   "metadata": {},
   "outputs": [
    {
     "data": {
      "text/plain": [
       "[[0, 3, 6, 9, 12, 15], [1, 3, 6, 10, 15, 21], [10, 13, 16, 21, 30, 45]]"
      ]
     },
     "execution_count": 11,
     "metadata": {},
     "output_type": "execute_result"
    }
   ],
   "source": [
    "def parse(input):\n",
    "  lines = [l.strip() for l in open(input, 'r').readlines()]\n",
    "  return [list(map(int, line.split())) for line in lines]\n",
    "\n",
    "parse('sample')"
   ]
  },
  {
   "cell_type": "code",
   "execution_count": 12,
   "metadata": {},
   "outputs": [
    {
     "name": "stdout",
     "output_type": "stream",
     "text": [
      "1980437560\n"
     ]
    }
   ],
   "source": [
    "def next_value(sequence):\n",
    "  if all(value == 0 for value in sequence):\n",
    "    return 0\n",
    "  else:\n",
    "    next_sequence = [sequence[i] - sequence[i - 1] for i in range(1, len(sequence))]\n",
    "    return sequence[-1] + next_value(next_sequence)\n",
    "\n",
    "def first_part(input):\n",
    "  return sum(next_value(sequence) for sequence in input)\n",
    "\n",
    "assert first_part(parse('sample')) == 114\n",
    "print(first_part(parse('input')))"
   ]
  },
  {
   "cell_type": "code",
   "execution_count": 13,
   "metadata": {},
   "outputs": [
    {
     "name": "stdout",
     "output_type": "stream",
     "text": [
      "977\n"
     ]
    }
   ],
   "source": [
    "def previous_value(sequence):\n",
    "  if all(value == 0 for value in sequence):\n",
    "    return 0\n",
    "  else:\n",
    "    next_sequence = [sequence[i] - sequence[i - 1] for i in range(1, len(sequence))]\n",
    "    return sequence[0] - previous_value(next_sequence)\n",
    "\n",
    "def second_part(input):\n",
    "  return sum(previous_value(sequence) for sequence in input)\n",
    "\n",
    "assert second_part(parse('sample')) == 2\n",
    "print(second_part(parse('input')))"
   ]
  }
 ],
 "metadata": {
  "kernelspec": {
   "display_name": ".venv",
   "language": "python",
   "name": "python3"
  },
  "language_info": {
   "codemirror_mode": {
    "name": "ipython",
    "version": 3
   },
   "file_extension": ".py",
   "mimetype": "text/x-python",
   "name": "python",
   "nbconvert_exporter": "python",
   "pygments_lexer": "ipython3",
   "version": "3.11.6"
  }
 },
 "nbformat": 4,
 "nbformat_minor": 2
}
