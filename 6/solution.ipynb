{
 "cells": [
  {
   "cell_type": "code",
   "execution_count": 20,
   "metadata": {},
   "outputs": [],
   "source": [
    "import re\n",
    "rx = r'^\\w+:(.*)$'\n",
    "\n",
    "def parse(input):\n",
    "  lines = [l.strip() for l in open(input, 'r').readlines()]\n",
    "  times = list(map(int, re.match(rx, lines[0]).group(1).split()))\n",
    "  distances = list(map(int, re.match(rx, lines[1]).group(1).split()))\n",
    "  return list(zip(times, distances))"
   ]
  },
  {
   "cell_type": "code",
   "execution_count": 21,
   "metadata": {},
   "outputs": [
    {
     "name": "stdout",
     "output_type": "stream",
     "text": [
      "1660968\n"
     ]
    }
   ],
   "source": [
    "def get_ways(time, distance):\n",
    "  result = 0\n",
    "  for hold in range(0, time + 1):\n",
    "    speed = hold\n",
    "    time_left = time - hold\n",
    "    if speed * time_left > distance:\n",
    "      result += 1\n",
    "  return result\n",
    "\n",
    "def first_part(input):\n",
    "  result = 1\n",
    "  for time, distance in input:\n",
    "    result *= get_ways(time, distance)\n",
    "  return result\n",
    "\n",
    "assert first_part(parse('sample')) == 288\n",
    "print(first_part(parse('input')))"
   ]
  },
  {
   "cell_type": "code",
   "execution_count": 22,
   "metadata": {},
   "outputs": [],
   "source": [
    "def parse2(input):\n",
    "  lines = [l.strip() for l in open(input, 'r').readlines()]\n",
    "  time = int(''.join(re.match(rx, lines[0]).group(1).split()))\n",
    "  distance = int(''.join(re.match(rx, lines[1]).group(1).split()))\n",
    "  return (time, distance)"
   ]
  },
  {
   "cell_type": "code",
   "execution_count": 23,
   "metadata": {},
   "outputs": [
    {
     "name": "stdout",
     "output_type": "stream",
     "text": [
      "26499773\n"
     ]
    }
   ],
   "source": [
    "def second_part(input):\n",
    "  time, distance = input\n",
    "  return get_ways(time, distance)\n",
    "\n",
    "assert second_part(parse2('sample')) == 71503\n",
    "print(second_part(parse2('input')))"
   ]
  }
 ],
 "metadata": {
  "kernelspec": {
   "display_name": ".venv",
   "language": "python",
   "name": "python3"
  },
  "language_info": {
   "codemirror_mode": {
    "name": "ipython",
    "version": 3
   },
   "file_extension": ".py",
   "mimetype": "text/x-python",
   "name": "python",
   "nbconvert_exporter": "python",
   "pygments_lexer": "ipython3",
   "version": "3.11.6"
  }
 },
 "nbformat": 4,
 "nbformat_minor": 2
}
