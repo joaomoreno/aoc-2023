{
 "cells": [
  {
   "cell_type": "code",
   "execution_count": 222,
   "metadata": {},
   "outputs": [
    {
     "data": {
      "text/plain": [
       "[['#.##..##.',\n",
       "  '..#.##.#.',\n",
       "  '##......#',\n",
       "  '##......#',\n",
       "  '..#.##.#.',\n",
       "  '..##..##.',\n",
       "  '#.#.##.#.'],\n",
       " ['#...##..#',\n",
       "  '#....#..#',\n",
       "  '..##..###',\n",
       "  '#####.##.',\n",
       "  '#####.##.',\n",
       "  '..##..###',\n",
       "  '#....#..#']]"
      ]
     },
     "execution_count": 222,
     "metadata": {},
     "output_type": "execute_result"
    }
   ],
   "source": [
    "def parse(input):\n",
    "  result = []\n",
    "  rows = [l.strip() for l in open(input, 'r').readlines()]\n",
    "  previous = 0\n",
    "  try:\n",
    "    while True:\n",
    "      current = rows.index('', previous)\n",
    "      result.append(rows[previous:current])\n",
    "      previous = current + 1\n",
    "  except ValueError:\n",
    "    result.append(rows[previous:])\n",
    "  return result\n",
    "\n",
    "parse('sample')"
   ]
  },
  {
   "cell_type": "code",
   "execution_count": 223,
   "metadata": {},
   "outputs": [
    {
     "data": {
      "text/plain": [
       "33735"
      ]
     },
     "execution_count": 223,
     "metadata": {},
     "output_type": "execute_result"
    }
   ],
   "source": [
    "def rotate(pattern):\n",
    "  return [''.join([row[i] for row in pattern]) for i in range(len(pattern[0]))]\n",
    "\n",
    "def first_part(input):\n",
    "  result = 0\n",
    "\n",
    "  for pattern in input:\n",
    "    m = 1\n",
    "    for p in [pattern, rotate(pattern)]:\n",
    "      possible_mirrors = set(range(len(p[0]) - 1))\n",
    "      for row in p:\n",
    "        new_possible_mirrors = set()\n",
    "        for mirror in possible_mirrors:\n",
    "          try:\n",
    "            i = 0\n",
    "            while mirror - i >= 0 and mirror + i + 1 < len(row):\n",
    "              if row[mirror - i] != row[mirror + i + 1]:\n",
    "                raise Exception('No mirrors here')\n",
    "              i += 1\n",
    "            new_possible_mirrors.add(mirror)\n",
    "          except Exception:\n",
    "            pass\n",
    "        possible_mirrors = new_possible_mirrors\n",
    "      if len(possible_mirrors) > 0:\n",
    "        result += (possible_mirrors.pop() + 1) * m\n",
    "      m = 100\n",
    "\n",
    "  return result\n",
    "\n",
    "assert first_part(parse('sample')) == 405\n",
    "first_part(parse('input'))"
   ]
  },
  {
   "cell_type": "code",
   "execution_count": 227,
   "metadata": {},
   "outputs": [
    {
     "data": {
      "text/plain": [
       "38063"
      ]
     },
     "execution_count": 227,
     "metadata": {},
     "output_type": "execute_result"
    }
   ],
   "source": [
    "from itertools import product\n",
    "\n",
    "def rotate(pattern):\n",
    "  return [''.join([row[i] for row in pattern]) for i in range(len(pattern[0]))]\n",
    "\n",
    "def get_mirrors(pattern, smudge_x=-1, smudge_y=-1):\n",
    "  for k, p in enumerate([pattern, rotate(pattern)]):\n",
    "    possible_mirrors = set(range(len(p[0]) - 1))\n",
    "    for y, row in enumerate(p):\n",
    "      new_possible_mirrors = set()\n",
    "      for mirror in possible_mirrors:\n",
    "        try:\n",
    "          i = 0\n",
    "          while mirror - i >= 0 and mirror + i + 1 < len(row):\n",
    "            ai = mirror - i\n",
    "            bi = mirror + i + 1\n",
    "            a = row[ai]\n",
    "            b = row[bi]\n",
    "\n",
    "            if (k == 0 and smudge_y == y and ai == smudge_x) or (k == 1 and smudge_x == y and ai == smudge_y):\n",
    "              a = '#' if a == '.' else '.'\n",
    "            elif (k == 0 and smudge_y == y and bi == smudge_x) or (k == 1 and smudge_x == y and bi == smudge_y):\n",
    "              b = '#' if b == '.' else '.'\n",
    "\n",
    "            if a != b:\n",
    "              raise Exception('No mirrors here')\n",
    "            i += 1\n",
    "          new_possible_mirrors.add(mirror)\n",
    "        except Exception:\n",
    "          pass\n",
    "      possible_mirrors = new_possible_mirrors\n",
    "    if len(possible_mirrors) > 0:\n",
    "      for mirror in possible_mirrors:\n",
    "        yield (mirror, -1) if k == 0 else (-1, mirror)\n",
    "\n",
    "def get_smudge_mirror(pattern):\n",
    "  original_mirror = get_mirrors(pattern).__next__()\n",
    "  for smudge_x, smudge_y in product(range(len(pattern[0])), range(len(pattern))):\n",
    "    for mirror in get_mirrors(pattern, smudge_x, smudge_y):\n",
    "      if mirror != original_mirror:\n",
    "        return mirror\n",
    "\n",
    "def second_part(input):\n",
    "  result = 0\n",
    "\n",
    "  for pattern in input:\n",
    "    mirror = get_smudge_mirror(pattern)\n",
    "\n",
    "    if mirror[0] != -1:\n",
    "      result += mirror[0] + 1\n",
    "    elif mirror[1] != -1:\n",
    "      result += (mirror[1] + 1) * 100\n",
    "\n",
    "  return result\n",
    "\n",
    "assert second_part(parse('sample')) == 400\n",
    "second_part(parse('input'))"
   ]
  }
 ],
 "metadata": {
  "kernelspec": {
   "display_name": ".venv",
   "language": "python",
   "name": "python3"
  },
  "language_info": {
   "codemirror_mode": {
    "name": "ipython",
    "version": 3
   },
   "file_extension": ".py",
   "mimetype": "text/x-python",
   "name": "python",
   "nbconvert_exporter": "python",
   "pygments_lexer": "ipython3",
   "version": "3.11.6"
  }
 },
 "nbformat": 4,
 "nbformat_minor": 2
}
