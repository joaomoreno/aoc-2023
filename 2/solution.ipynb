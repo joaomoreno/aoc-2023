{
 "cells": [
  {
   "cell_type": "code",
   "execution_count": 53,
   "metadata": {},
   "outputs": [],
   "source": [
    "def parse(input):\n",
    "  return [l.strip() for l in open(input, 'r').readlines()]"
   ]
  },
  {
   "cell_type": "code",
   "execution_count": 55,
   "metadata": {},
   "outputs": [
    {
     "name": "stdout",
     "output_type": "stream",
     "text": [
      "2771\n"
     ]
    }
   ],
   "source": [
    "import re\n",
    "rx = r'^Game (\\d+): (.*)$'\n",
    "\n",
    "def process(input):\n",
    "  result = []\n",
    "  for line in input:\n",
    "    match = re.match(rx, line)\n",
    "    id, raw = match.groups()\n",
    "    split = [[dice.split(' ') for dice in set.split(', ')] for set in raw.split('; ')]\n",
    "    result.append((int(id), [dict((color, int(count)) for (count, color) in set) for set in split]))\n",
    "  return result\n",
    "\n",
    "def first_part(input):\n",
    "  result = 0\n",
    "  games = process(input)\n",
    "  for id, game in games:\n",
    "    valid = [set.get('red', 0) <= 12 and set.get('green', 0) <= 13 and set.get('blue', 0) <= 14 for set in game]\n",
    "    if all(valid):\n",
    "      result += id\n",
    "  return result\n",
    "\n",
    "assert first_part(parse('sample')) == 8\n",
    "print(first_part(parse('input')))"
   ]
  },
  {
   "cell_type": "code",
   "execution_count": 61,
   "metadata": {},
   "outputs": [
    {
     "name": "stdout",
     "output_type": "stream",
     "text": [
      "70924\n"
     ]
    }
   ],
   "source": [
    "from functools import reduce\n",
    "\n",
    "def second_part(input):\n",
    "  result = 0\n",
    "  games = process(input)\n",
    "  for _, game in games:\n",
    "    tuples = [(set.get('red', 0), set.get('green', 0), set.get('blue', 0)) for set in game]\n",
    "    maxes = reduce(lambda a, b: (max(a[0], b[0]), max(a[1], b[1]), max(a[2], b[2])), tuples)\n",
    "    power = reduce(lambda a, b: a * b, maxes)\n",
    "    result += power\n",
    "  return result\n",
    "\n",
    "assert second_part(parse('sample')) == 2286\n",
    "print(second_part(parse('input')))"
   ]
  }
 ],
 "metadata": {
  "kernelspec": {
   "display_name": ".venv",
   "language": "python",
   "name": "python3"
  },
  "language_info": {
   "codemirror_mode": {
    "name": "ipython",
    "version": 3
   },
   "file_extension": ".py",
   "mimetype": "text/x-python",
   "name": "python",
   "nbconvert_exporter": "python",
   "pygments_lexer": "ipython3",
   "version": "3.11.6"
  }
 },
 "nbformat": 4,
 "nbformat_minor": 2
}
