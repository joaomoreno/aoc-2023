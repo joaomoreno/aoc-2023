{
 "cells": [
  {
   "cell_type": "code",
   "execution_count": 1,
   "metadata": {},
   "outputs": [],
   "source": [
    "def parse(input):\n",
    "  return [l.strip() for l in open(input, 'r').readlines()]"
   ]
  },
  {
   "cell_type": "code",
   "execution_count": 2,
   "metadata": {},
   "outputs": [
    {
     "name": "stdout",
     "output_type": "stream",
     "text": [
      "56049\n"
     ]
    }
   ],
   "source": [
    "def first_part(input):\n",
    "  result = 0\n",
    "  for line in input:\n",
    "    digits = [c for c in line if c.isdigit()]\n",
    "    result += int(digits[0] + digits[-1])\n",
    "  return result\n",
    "\n",
    "assert first_part(parse('sample')) == 142\n",
    "print(first_part(parse('input')))"
   ]
  },
  {
   "cell_type": "code",
   "execution_count": 19,
   "metadata": {},
   "outputs": [
    {
     "name": "stdout",
     "output_type": "stream",
     "text": [
      "54530\n"
     ]
    }
   ],
   "source": [
    "import re\n",
    "numbers = ['one', 'two', 'three', 'four', 'five', 'six', 'seven', 'eight', 'nine']\n",
    "rx = r'\\d|one|two|three|four|five|six|seven|eight|nine'\n",
    "rx_rev = r'\\d|enin|thgie|neves|xis|evif|ruof|eerht|owt|eno'\n",
    "\n",
    "def to_digit(word):\n",
    "  return word if len(word) == 1 else str(numbers.index(word) + 1)\n",
    "\n",
    "def second_part(input):\n",
    "  result = 0\n",
    "  for line in input:\n",
    "    line_rev = line[::-1]\n",
    "    first_match = re.search(rx, line)\n",
    "    last_match = re.search(rx_rev, line_rev)\n",
    "    result += int(to_digit(first_match.group(0)) + to_digit(last_match.group(0)[::-1]))\n",
    "  return result\n",
    "\n",
    "assert second_part(parse('sample2')) == 281\n",
    "print(second_part(parse('input')))"
   ]
  }
 ],
 "metadata": {
  "kernelspec": {
   "display_name": ".venv",
   "language": "python",
   "name": "python3"
  },
  "language_info": {
   "codemirror_mode": {
    "name": "ipython",
    "version": 3
   },
   "file_extension": ".py",
   "mimetype": "text/x-python",
   "name": "python",
   "nbconvert_exporter": "python",
   "pygments_lexer": "ipython3",
   "version": "3.11.6"
  }
 },
 "nbformat": 4,
 "nbformat_minor": 2
}
