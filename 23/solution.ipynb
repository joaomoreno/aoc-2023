{
 "cells": [
  {
   "cell_type": "code",
   "execution_count": 15,
   "metadata": {},
   "outputs": [
    {
     "data": {
      "text/plain": [
       "['#.#####################',\n",
       " '#.......#########...###',\n",
       " '#######.#########.#.###',\n",
       " '###.....#.>.>.###.#.###',\n",
       " '###v#####.#v#.###.#.###',\n",
       " '###.>...#.#.#.....#...#',\n",
       " '###v###.#.#.#########.#',\n",
       " '###...#.#.#.......#...#',\n",
       " '#####.#.#.#######.#.###',\n",
       " '#.....#.#.#.......#...#',\n",
       " '#.#####.#.#.#########v#',\n",
       " '#.#...#...#...###...>.#',\n",
       " '#.#.#v#######v###.###v#',\n",
       " '#...#.>.#...>.>.#.###.#',\n",
       " '#####v#.#.###v#.#.###.#',\n",
       " '#.....#...#...#.#.#...#',\n",
       " '#.#########.###.#.#.###',\n",
       " '#...###...#...#...#.###',\n",
       " '###.###.#.###v#####v###',\n",
       " '#...#...#.#.>.>.#.>.###',\n",
       " '#.###.###.#.###.#.#v###',\n",
       " '#.....###...###...#...#',\n",
       " '#####################.#']"
      ]
     },
     "execution_count": 15,
     "metadata": {},
     "output_type": "execute_result"
    }
   ],
   "source": [
    "def parse(input):\n",
    "  return [l.strip() for l in open(input, 'r').readlines()]\n",
    "\n",
    "parse('sample')"
   ]
  },
  {
   "cell_type": "code",
   "execution_count": 18,
   "metadata": {},
   "outputs": [
    {
     "data": {
      "text/plain": [
       "2070"
      ]
     },
     "execution_count": 18,
     "metadata": {},
     "output_type": "execute_result"
    }
   ],
   "source": [
    "V = { '>': (1, 0), '<': (-1, 0), '^': (0, -1), 'v': (0, 1) }\n",
    "\n",
    "def neighbors(input, x, y):\n",
    "  for vx, vy in ([V[input[y][x]]] if input[y][x] in V else [(0, 1), (0, -1), (1, 0), (-1, 0)]):\n",
    "    if x + vx < 0 or x + vx >= len(input[0]) or y + vy < 0 or y + vy >= len(input):\n",
    "      continue\n",
    "    if input[y + vy][x + vx] == '#':\n",
    "      continue\n",
    "    yield (x + vx, y + vy)\n",
    "\n",
    "def solve(input, path):\n",
    "  if path[-1] == (len(input[0]) - 2, len(input) - 1):\n",
    "    return 0\n",
    "  \n",
    "  lengths = -1\n",
    "  for n in neighbors(input, *path[-1]):\n",
    "    if n not in path:\n",
    "      l = solve(input, path + [n])\n",
    "      if l > -1:\n",
    "        lengths = max(lengths, l + 1)\n",
    "  return lengths\n",
    "\n",
    "def first_part(input):\n",
    "  return solve(input, [(1, 0)])\n",
    "\n",
    "assert first_part(parse('sample')) == 94\n",
    "first_part(parse('input'))"
   ]
  },
  {
   "cell_type": "code",
   "execution_count": 47,
   "metadata": {},
   "outputs": [
    {
     "name": "stdout",
     "output_type": "stream",
     "text": [
      "found max 154\n",
      "found max 5030\n"
     ]
    },
    {
     "data": {
      "text/plain": [
       "5030"
      ]
     },
     "execution_count": 47,
     "metadata": {},
     "output_type": "execute_result"
    }
   ],
   "source": [
    "from collections import defaultdict\n",
    "import sys\n",
    "sys.setrecursionlimit(30000)\n",
    "\n",
    "def neighbors(input, x, y):\n",
    "  for vx, vy in [(0, 1), (0, -1), (1, 0), (-1, 0)]:\n",
    "    if x + vx < 0 or x + vx >= len(input[0]) or y + vy < 0 or y + vy >= len(input):\n",
    "      continue\n",
    "    if input[y + vy][x + vx] == '#':\n",
    "      continue\n",
    "    yield (x + vx, y + vy)\n",
    "\n",
    "def solve(input, visited, distances, current, distance):\n",
    "  if current in visited:\n",
    "    return\n",
    "  \n",
    "  visited.add(current)\n",
    "\n",
    "  if distance > distances[current]:\n",
    "    distances[current] = distance\n",
    "\n",
    "    if current == (len(input[0]) - 2, len(input) - 1):\n",
    "      print('found max', distances[current])\n",
    "\n",
    "  for next in neighbors(input, *current):\n",
    "    solve(input, visited, distances, next, distance + 1)\n",
    "\n",
    "  visited.remove(current)\n",
    "\n",
    "def second_part(input):\n",
    "  distances = defaultdict(int)\n",
    "  solve(input, set(), distances, (1, 0), 0)\n",
    "  return distances[(len(input[0]) - 2, len(input) - 1)]\n",
    "\n",
    "assert second_part(parse('sample')) == 154\n",
    "second_part(parse('input'))"
   ]
  }
 ],
 "metadata": {
  "kernelspec": {
   "display_name": ".venv",
   "language": "python",
   "name": "python3"
  },
  "language_info": {
   "codemirror_mode": {
    "name": "ipython",
    "version": 3
   },
   "file_extension": ".py",
   "mimetype": "text/x-python",
   "name": "python",
   "nbconvert_exporter": "python",
   "pygments_lexer": "ipython3",
   "version": "3.11.6"
  }
 },
 "nbformat": 4,
 "nbformat_minor": 2
}
