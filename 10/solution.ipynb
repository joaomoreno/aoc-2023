{
 "cells": [
  {
   "cell_type": "code",
   "execution_count": 309,
   "metadata": {},
   "outputs": [
    {
     "data": {
      "text/plain": [
       "((1, 1), ['-L|F7', '7S-7|', 'L|7||', '-L-J|', 'L|-JF'])"
      ]
     },
     "execution_count": 309,
     "metadata": {},
     "output_type": "execute_result"
    }
   ],
   "source": [
    "def parse(input):\n",
    "  x = -1\n",
    "  lines = [l.strip() for l in open(input, 'r').readlines()]\n",
    "  for y in range(len(lines)):\n",
    "    x = lines[y].find('S')\n",
    "    if x != -1:\n",
    "      start = (x, y)\n",
    "  return start, lines\n",
    "\n",
    "parse('sample')"
   ]
  },
  {
   "cell_type": "code",
   "execution_count": 310,
   "metadata": {},
   "outputs": [
    {
     "name": "stdout",
     "output_type": "stream",
     "text": [
      "6778\n"
     ]
    }
   ],
   "source": [
    "def get_next(loop, pos):\n",
    "  x, y = pos\n",
    "  if loop[y][x] == '|':\n",
    "    yield (x, y - 1)\n",
    "    yield (x, y + 1)\n",
    "  elif loop[y][x] == '-':\n",
    "    yield (x - 1, y)\n",
    "    yield (x + 1, y)\n",
    "  elif loop[y][x] == 'L':\n",
    "    yield (x, y - 1)\n",
    "    yield (x + 1, y)\n",
    "  elif loop[y][x] == 'J':\n",
    "    yield (x, y - 1)\n",
    "    yield (x - 1, y)\n",
    "  elif loop[y][x] == '7':\n",
    "    yield (x, y + 1)\n",
    "    yield (x - 1, y)\n",
    "  elif loop[y][x] == 'F':\n",
    "    yield (x, y + 1)\n",
    "    yield (x + 1, y)\n",
    "  elif loop[y][x] == 'S':\n",
    "    if y > 0 and loop[y - 1][x] in ['|', '7', 'F']:\n",
    "      yield (x, y - 1)\n",
    "    if y < len(loop) - 1 and loop[y + 1][x] in ['|', 'L', 'J']:\n",
    "      yield (x, y + 1)\n",
    "    if x > 0 and loop[y][x - 1] in ['-', 'F', 'L']:\n",
    "      yield (x - 1, y)\n",
    "    if x < len(loop[y]) - 1 and loop[y][x + 1] in ['-', '7', 'J']:\n",
    "      yield (x + 1, y)\n",
    "\n",
    "def first_part(input):\n",
    "  start, loop = input\n",
    "  steps = 0\n",
    "  queue = [start]\n",
    "  visited = set(start)\n",
    "\n",
    "  while queue:\n",
    "    next_queue = []\n",
    "    for pos in queue:\n",
    "      for n in get_next(loop, pos):\n",
    "        if n not in visited:\n",
    "          next_queue.append(n)\n",
    "          visited.add(n)\n",
    "    queue = next_queue\n",
    "    steps += 1\n",
    "  \n",
    "  return steps - 1\n",
    "\n",
    "assert first_part(parse('sample')) == 4\n",
    "assert first_part(parse('sample2')) == 8\n",
    "print(first_part(parse('input')))"
   ]
  },
  {
   "cell_type": "code",
   "execution_count": 311,
   "metadata": {},
   "outputs": [
    {
     "name": "stdout",
     "output_type": "stream",
     "text": [
      "433\n"
     ]
    }
   ],
   "source": [
    "def get_direction(current, next):\n",
    "  cx, cy = current\n",
    "  nx, ny = next\n",
    "  if cx == nx:\n",
    "    return 'N' if cy > ny else 'S'\n",
    "  else:\n",
    "    return 'W' if cx > nx else 'E'\n",
    "\n",
    "rotations = {\n",
    "  'NW': -1,\n",
    "  'NE': 1,\n",
    "  'SW': 1,\n",
    "  'SE': -1,\n",
    "  'WN': 1,\n",
    "  'WS': -1,\n",
    "  'EN': -1,\n",
    "  'ES': 1,\n",
    "}\n",
    "\n",
    "def get_to_the_right(current, next):\n",
    "  cx, cy = current\n",
    "  nx, ny = next\n",
    "  dx = nx - cx\n",
    "  dy = ny - cy\n",
    "  yield (cx - dy, cy + dx)\n",
    "  yield (cx + dx - dy, cy + dx + dy)\n",
    "\n",
    "def get_neighbors(current):\n",
    "  cx, cy = current\n",
    "  yield (cx + 1, cy)\n",
    "  yield (cx - 1, cy)\n",
    "  yield (cx, cy + 1)\n",
    "  yield (cx, cy - 1)\n",
    "\n",
    "def second_part(input):\n",
    "  current, loop = input\n",
    "  path = [current]\n",
    "  next = [next for next in get_next(loop, current)][0]\n",
    "  start_direction = direction = get_direction(current, next)\n",
    "  rotation = 0\n",
    "\n",
    "  while True:\n",
    "    current = next\n",
    "    path.append(current)\n",
    "    possible_next = [next for next in get_next(loop, current) if next not in path]\n",
    "    if len(possible_next) == 0:\n",
    "      break\n",
    "    next = possible_next[0]\n",
    "    next_direction = get_direction(current, next)\n",
    "    rotation += rotations.get(direction + next_direction, 0)\n",
    "    direction = next_direction\n",
    "  next = path[0]\n",
    "  next_direction = get_direction(current, next)\n",
    "  rotation += rotations.get(direction + next_direction, 0)\n",
    "  rotation += rotations.get(next_direction + start_direction, 0)\n",
    "\n",
    "  path.append(path[0])\n",
    "  if rotation == -4:\n",
    "    path = list(reversed(path))\n",
    "\n",
    "  inside = set()\n",
    "  for current, next in zip(path, path[1:]):\n",
    "    for neighbor in get_to_the_right(current, next):\n",
    "      if neighbor not in path:\n",
    "        inside.add(neighbor)\n",
    "  \n",
    "  queue = list(inside)\n",
    "  while queue:\n",
    "    next_queue = []\n",
    "    for pos in queue:\n",
    "      for n in get_neighbors(pos):\n",
    "        if n not in inside and n not in path:\n",
    "          next_queue.append(n)\n",
    "          inside.add(n)\n",
    "    queue = next_queue\n",
    "\n",
    "  return len(inside)\n",
    "\n",
    "assert second_part(parse('sample3')) == 4\n",
    "assert second_part(parse('sample4')) == 8\n",
    "assert second_part(parse('sample5')) == 10\n",
    "print(second_part(parse('input')))"
   ]
  }
 ],
 "metadata": {
  "kernelspec": {
   "display_name": ".venv",
   "language": "python",
   "name": "python3"
  },
  "language_info": {
   "codemirror_mode": {
    "name": "ipython",
    "version": 3
   },
   "file_extension": ".py",
   "mimetype": "text/x-python",
   "name": "python",
   "nbconvert_exporter": "python",
   "pygments_lexer": "ipython3",
   "version": "3.11.6"
  }
 },
 "nbformat": 4,
 "nbformat_minor": 2
}
